{
 "cells": [
  {
   "cell_type": "markdown",
   "metadata": {
    "id": "uUvsR-mWBoNS"
   },
   "source": [
    "# Perform Multi-Table Synthesis\n",
    "\n",
    "In this exercise, we are going to walk through the synthesis of a relational table structure. For that, we will be using a slightly trimmed down version of the Berka dataset [[1](#refs)]. It consists of a total of 8 tables, with one of these (\"district\") serving as a reference table, and all others containing privacy-sensitive information.\n",
    "\n",
    "<img src='./berka-original.png' width=\"600px\"/>\n",
    "\n",
    "At the time of writing, MOSTLY AI requires data for a multi-table scenario the data to be provisioned via a relational database, and also to be delivered to a relational database. Thus we will first provide helper scripts for creating two public database instances, to load the original data into one of them, and to then make the required job configuration.\n",
    "\n",
    "Once synthesized, we will check for referential integrity, as well as for the retention of specific statistical properties that span multiple tables."
   ]
  },
  {
   "cell_type": "markdown",
   "metadata": {
    "id": "oZ7ERZK__8TB",
    "tags": []
   },
   "source": [
    "## Import Data to a Database\n",
    "\n",
    "If you don't have a DB server available, then go to your preferred cloud provider (AWS, GPC, Azure, etc.) and launch an instance there first. Make sure that clients can connect externally via username / password credentials, and have the required rights to create, update and delete database instances there.\n",
    "\n",
    "<img src='./gpc1.png' width=\"400px\"/> <img src='./gpc2.png' width=\"400px\"/><br /><img src='./gpc3.png' width=\"400px\"/> <img src='./gpc4.png' width=\"400px\"/>\n",
    "\n",
    "Once in place, please update the following variables accordingly."
   ]
  },
  {
   "cell_type": "code",
   "execution_count": 71,
   "metadata": {
    "tags": []
   },
   "outputs": [],
   "source": [
    "db_host = \"34.22.179.186\"\n",
    "db_usr = \"postgres\"\n",
    "db_pwd = \"berka\""
   ]
  },
  {
   "cell_type": "markdown",
   "metadata": {},
   "source": [
    "Let's then create two database instances. One, that will contain the original data. And another one, that will serve us as a destination for the synthetic tables."
   ]
  },
  {
   "cell_type": "code",
   "execution_count": 247,
   "metadata": {
    "tags": []
   },
   "outputs": [],
   "source": [
    "# install required Python packages\n",
    "!pip install -q psycopg2 sqlalchemy"
   ]
  },
  {
   "cell_type": "code",
   "execution_count": 73,
   "metadata": {
    "tags": []
   },
   "outputs": [],
   "source": [
    "import sqlalchemy\n",
    "assert sqlalchemy.__version__.startswith('2.')"
   ]
  },
  {
   "cell_type": "markdown",
   "metadata": {},
   "source": [
    "### Create Source and Destination Database"
   ]
  },
  {
   "cell_type": "code",
   "execution_count": 75,
   "metadata": {
    "tags": []
   },
   "outputs": [],
   "source": [
    "import psycopg2\n",
    "from sqlalchemy import create_engine\n",
    "\n",
    "def create_db(host, user, pwd, db_name, if_exists=\"fail\"):\n",
    "    con = psycopg2.connect(f\"postgresql://{user}:{pwd}@{host}:5432/postgres\")\n",
    "    con.autocommit = True\n",
    "    cur = con.cursor()\n",
    "    cur.execute(f\"SELECT 1 FROM pg_catalog.pg_database WHERE datname = '{db_name}'\")\n",
    "    exists = cur.fetchone()\n",
    "    if exists and if_exists == \"fail\":\n",
    "        raise Exception(f\"database {db_name} already exists\")\n",
    "    elif exists and if_exists == \"replace\":\n",
    "        cur.execute(\"DROP DATABASE \" + db_name)\n",
    "    cur.execute(\"CREATE DATABASE \" + db_name)\n",
    "    con.close()\n",
    "\n",
    "db_name_source = 'berka_original'\n",
    "db_name_destination = 'berka_synthetic'\n",
    "create_db(db_host, db_usr, db_pwd, db_name_source, if_exists=\"replace\")\n",
    "create_db(db_host, db_usr, db_pwd, db_name_destination, if_exists=\"replace\")"
   ]
  },
  {
   "cell_type": "markdown",
   "metadata": {},
   "source": [
    "### Load Data into Source Database"
   ]
  },
  {
   "cell_type": "code",
   "execution_count": 76,
   "metadata": {
    "tags": []
   },
   "outputs": [],
   "source": [
    "def connect_db(host, user, pwd, db_name):\n",
    "    engine = create_engine(f\"postgresql://{user}:{pwd}@{host}:5432/{db_name}\")\n",
    "    return engine\n",
    "\n",
    "engine = connect_db(db_host, db_usr, db_pwd, db_name_source)"
   ]
  },
  {
   "cell_type": "code",
   "execution_count": 77,
   "metadata": {
    "tags": []
   },
   "outputs": [
    {
     "name": "stdout",
     "output_type": "stream",
     "text": [
      "running in LOCAL mode\n"
     ]
    }
   ],
   "source": [
    "# check whether we are in Google colab\n",
    "try:\n",
    "    from google.colab import files\n",
    "    print(\"running in COLAB mode\")\n",
    "    repo = 'https://github.com/mostly-ai/mostly-tutorials/raw/dev/multi-table'\n",
    "except:\n",
    "    print(\"running in LOCAL mode\")\n",
    "    repo = '.'"
   ]
  },
  {
   "cell_type": "code",
   "execution_count": 78,
   "metadata": {
    "tags": []
   },
   "outputs": [
    {
     "name": "stdout",
     "output_type": "stream",
     "text": [
      "created table `account` with 4,500 records\n",
      "created table `card` with 892 records\n",
      "created table `client` with 5,369 records\n",
      "created table `disposition` with 5,369 records\n",
      "created table `district` with 77 records\n",
      "created table `loan` with 682 records\n",
      "created table `orders` with 6,471 records\n",
      "created table `transaction` with 49,498 records\n",
      "DONE\n"
     ]
    }
   ],
   "source": [
    "# import data into DB\n",
    "from pathlib import Path\n",
    "import pandas as pd\n",
    "csv_files = [\n",
    "    f'{repo}/account.csv', \n",
    "    f'{repo}/card.csv', \n",
    "    f'{repo}/client.csv', \n",
    "    f'{repo}/disposition.csv', \n",
    "    f'{repo}/district.csv', \n",
    "    f'{repo}/loan.csv', \n",
    "    f'{repo}/orders.csv', \n",
    "    f'{repo}/transaction.csv'\n",
    "]\n",
    "originals = {}\n",
    "for fn in csv_files:\n",
    "    # read data from CSV into Pandas DataFrame\n",
    "    df = pd.read_csv(fn)\n",
    "    # ensure all columns are NULL-able\n",
    "    df = df.convert_dtypes()\n",
    "    # convert date columns\n",
    "    for col in df.columns:\n",
    "        if col in ['date', 'issued']:\n",
    "            df[col] = pd.to_datetime(df[col])\n",
    "    # get filename w/o extension\n",
    "    db_table = Path(fn).stem\n",
    "    # write DataFrame to DB\n",
    "    df.to_sql(db_table, engine, index=False, if_exists='replace')\n",
    "    print(f\"created table `{db_table}` with {df.shape[0]:,} records\")\n",
    "    originals[db_table] = df\n",
    "    \n",
    "print('DONE')"
   ]
  },
  {
   "cell_type": "code",
   "execution_count": 79,
   "metadata": {
    "tags": []
   },
   "outputs": [
    {
     "name": "stdout",
     "output_type": "stream",
     "text": [
      "created primary keys for all tables\n",
      "created foreign keys for all tables\n"
     ]
    }
   ],
   "source": [
    "from sqlalchemy import text\n",
    "with engine.connect() as conn:\n",
    "    # define primary keys in the database\n",
    "    conn.execute(text('ALTER TABLE account ADD PRIMARY KEY (account_id);'))\n",
    "    conn.execute(text('ALTER TABLE card ADD PRIMARY KEY (card_id);'))\n",
    "    conn.execute(text('ALTER TABLE client ADD PRIMARY KEY (client_id);'))\n",
    "    conn.execute(text('ALTER TABLE disposition ADD PRIMARY KEY (disp_id);'))\n",
    "    conn.execute(text('ALTER TABLE district ADD PRIMARY KEY (district_id);'))\n",
    "    conn.execute(text('ALTER TABLE loan ADD PRIMARY KEY (loan_id);'))\n",
    "    conn.execute(text('ALTER TABLE orders ADD PRIMARY KEY (order_id);'))\n",
    "    conn.execute(text('ALTER TABLE transaction ADD PRIMARY KEY (trans_id);'))\n",
    "    print(f\"created primary keys\")\n",
    "    # define foreign key constraints in the database\n",
    "    conn.execute(text('ALTER TABLE account ADD CONSTRAINT fk_district_a FOREIGN KEY (district_id) REFERENCES district (district_id);'))\n",
    "    conn.execute(text('ALTER TABLE client ADD CONSTRAINT fk_district_c FOREIGN KEY (district_id) REFERENCES district (district_id);'))\n",
    "    conn.execute(text('ALTER TABLE disposition ADD CONSTRAINT fk_disp_a FOREIGN KEY (account_id) REFERENCES account (account_id);'))\n",
    "    conn.execute(text('ALTER TABLE disposition ADD CONSTRAINT fk_disp_c FOREIGN KEY (client_id) REFERENCES client (client_id);'))\n",
    "    conn.execute(text('ALTER TABLE card ADD CONSTRAINT fk_card FOREIGN KEY (disp_id) REFERENCES disposition (disp_id);'))\n",
    "    conn.execute(text('ALTER TABLE transaction ADD CONSTRAINT fk_trans FOREIGN KEY (account_id) REFERENCES account (account_id);'))\n",
    "    conn.execute(text('ALTER TABLE loan ADD CONSTRAINT fk_loan FOREIGN KEY (account_id) REFERENCES account (account_id);'))\n",
    "    conn.execute(text('ALTER TABLE orders ADD CONSTRAINT fk_order FOREIGN KEY (account_id) REFERENCES account (account_id);'))\n",
    "    print(f\"created foreign keys\")\n",
    "    conn.commit()\n",
    "print('DONE')"
   ]
  },
  {
   "cell_type": "markdown",
   "metadata": {
    "id": "oZ7ERZK__8TB",
    "tags": []
   },
   "source": [
    "## Synthesize Data via MOSTLY AI\n",
    "\n",
    "Go to MOSTLY AI, and\n",
    "\n",
    "1. Create two data connectors, one for the source DB `berka_original`, and one for the destination DB `berka_synthetic`\n",
    "\n",
    "2. Create a data catalog using the data connector for `berka_original`\n",
    "\n",
    "    - Select all 8 tables for the data catalog\n",
    "    - Select `client` and `account` as subject tables\n",
    "    - Keep the ranking of the subject table as-is\n",
    "    - Configure smart select column `district_id` for the `disposition -> client` relation\n",
    "\n",
    "<img src='./mostly1.png' width=\"400px\"/> <img src='./mostly2.png' width=\"400px\"/><br />\n",
    "<img src='./mostly3.png' width=\"400px\"/> <img src='./mostly4.png' width=\"400px\"/><br />\n",
    "<img src='./mostly5.png' width=\"400px\"/> <img src='./mostly6.png' width=\"400px\"/><br />\n",
    "\n",
    "These are then the configured table types and relations.\n",
    "\n",
    "<img src='./berka-synthetic.png' width=\"600px\"/>\n",
    "\n",
    "3. Launch the job, and select `berka_synthetic` as a destination in \"Output settings\"\n",
    "\n",
    "4. Once the job has completed, continue with executing the next cell"
   ]
  },
  {
   "cell_type": "code",
   "execution_count": 83,
   "metadata": {
    "tags": []
   },
   "outputs": [
    {
     "name": "stdout",
     "output_type": "stream",
     "text": [
      "extracted table account with 4,500 records\n",
      "extracted table card with 5,344 records\n",
      "extracted table client with 5,369 records\n",
      "extracted table disposition with 5,344 records\n",
      "extracted table district with 77 records\n",
      "extracted table loan with 4,500 records\n",
      "extracted table orders with 7,488 records\n",
      "extracted table transaction with 49,500 records\n"
     ]
    }
   ],
   "source": [
    "# fetch synthetic data from destination database\n",
    "engine = connect_db(db_host, db_usr, db_pwd, db_name_destination)\n",
    "tables = [Path(fn).stem for fn in csv_files]\n",
    "synthetics = {}\n",
    "for db_table in tables:\n",
    "    with engine.begin() as conn:\n",
    "        df = pd.read_sql_query(sql=text(f'select * from {db_table};'), con=conn)\n",
    "    print(f\"extracted table {db_table} with {df.shape[0]:,} records\")\n",
    "    synthetics[db_table] = df"
   ]
  },
  {
   "cell_type": "markdown",
   "metadata": {},
   "source": [
    "## Inspect Synthetic Data"
   ]
  },
  {
   "cell_type": "markdown",
   "metadata": {
    "tags": []
   },
   "source": [
    "### Show sample records for each table"
   ]
  },
  {
   "cell_type": "code",
   "execution_count": 217,
   "metadata": {
    "tags": []
   },
   "outputs": [
    {
     "data": {
      "text/html": [
       "<div>\n",
       "<style scoped>\n",
       "    .dataframe tbody tr th:only-of-type {\n",
       "        vertical-align: middle;\n",
       "    }\n",
       "\n",
       "    .dataframe tbody tr th {\n",
       "        vertical-align: top;\n",
       "    }\n",
       "\n",
       "    .dataframe thead th {\n",
       "        text-align: right;\n",
       "    }\n",
       "</style>\n",
       "<table border=\"1\" class=\"dataframe\">\n",
       "  <thead>\n",
       "    <tr style=\"text-align: right;\">\n",
       "      <th></th>\n",
       "      <th>account_id</th>\n",
       "      <th>district_id</th>\n",
       "      <th>frequency</th>\n",
       "      <th>date</th>\n",
       "    </tr>\n",
       "  </thead>\n",
       "  <tbody>\n",
       "    <tr>\n",
       "      <th>0</th>\n",
       "      <td>1</td>\n",
       "      <td>65</td>\n",
       "      <td>POPLATEK MESICNE</td>\n",
       "      <td>1997-12-06</td>\n",
       "    </tr>\n",
       "    <tr>\n",
       "      <th>1</th>\n",
       "      <td>2</td>\n",
       "      <td>38</td>\n",
       "      <td>POPLATEK MESICNE</td>\n",
       "      <td>1997-04-16</td>\n",
       "    </tr>\n",
       "    <tr>\n",
       "      <th>2</th>\n",
       "      <td>3</td>\n",
       "      <td>76</td>\n",
       "      <td>POPLATEK MESICNE</td>\n",
       "      <td>1995-08-04</td>\n",
       "    </tr>\n",
       "  </tbody>\n",
       "</table>\n",
       "</div>"
      ],
      "text/plain": [
       "   account_id  district_id         frequency       date\n",
       "0           1           65  POPLATEK MESICNE 1997-12-06\n",
       "1           2           38  POPLATEK MESICNE 1997-04-16\n",
       "2           3           76  POPLATEK MESICNE 1995-08-04"
      ]
     },
     "metadata": {},
     "output_type": "display_data"
    },
    {
     "data": {
      "text/html": [
       "<div>\n",
       "<style scoped>\n",
       "    .dataframe tbody tr th:only-of-type {\n",
       "        vertical-align: middle;\n",
       "    }\n",
       "\n",
       "    .dataframe tbody tr th {\n",
       "        vertical-align: top;\n",
       "    }\n",
       "\n",
       "    .dataframe thead th {\n",
       "        text-align: right;\n",
       "    }\n",
       "</style>\n",
       "<table border=\"1\" class=\"dataframe\">\n",
       "  <thead>\n",
       "    <tr style=\"text-align: right;\">\n",
       "      <th></th>\n",
       "      <th>card_id</th>\n",
       "      <th>disp_id</th>\n",
       "      <th>type</th>\n",
       "      <th>issued</th>\n",
       "    </tr>\n",
       "  </thead>\n",
       "  <tbody>\n",
       "    <tr>\n",
       "      <th>0</th>\n",
       "      <td>1</td>\n",
       "      <td>1</td>\n",
       "      <td>classic</td>\n",
       "      <td>1998-01-06</td>\n",
       "    </tr>\n",
       "    <tr>\n",
       "      <th>1</th>\n",
       "      <td>2</td>\n",
       "      <td>2</td>\n",
       "      <td>classic</td>\n",
       "      <td>1998-07-09</td>\n",
       "    </tr>\n",
       "    <tr>\n",
       "      <th>2</th>\n",
       "      <td>3</td>\n",
       "      <td>3</td>\n",
       "      <td>gold</td>\n",
       "      <td>1998-09-23</td>\n",
       "    </tr>\n",
       "  </tbody>\n",
       "</table>\n",
       "</div>"
      ],
      "text/plain": [
       "   card_id  disp_id     type     issued\n",
       "0        1        1  classic 1998-01-06\n",
       "1        2        2  classic 1998-07-09\n",
       "2        3        3     gold 1998-09-23"
      ]
     },
     "metadata": {},
     "output_type": "display_data"
    },
    {
     "data": {
      "text/html": [
       "<div>\n",
       "<style scoped>\n",
       "    .dataframe tbody tr th:only-of-type {\n",
       "        vertical-align: middle;\n",
       "    }\n",
       "\n",
       "    .dataframe tbody tr th {\n",
       "        vertical-align: top;\n",
       "    }\n",
       "\n",
       "    .dataframe thead th {\n",
       "        text-align: right;\n",
       "    }\n",
       "</style>\n",
       "<table border=\"1\" class=\"dataframe\">\n",
       "  <thead>\n",
       "    <tr style=\"text-align: right;\">\n",
       "      <th></th>\n",
       "      <th>client_id</th>\n",
       "      <th>birth_number</th>\n",
       "      <th>district_id</th>\n",
       "    </tr>\n",
       "  </thead>\n",
       "  <tbody>\n",
       "    <tr>\n",
       "      <th>0</th>\n",
       "      <td>1</td>\n",
       "      <td>405106</td>\n",
       "      <td>30</td>\n",
       "    </tr>\n",
       "    <tr>\n",
       "      <th>1</th>\n",
       "      <td>2</td>\n",
       "      <td>501012</td>\n",
       "      <td>76</td>\n",
       "    </tr>\n",
       "    <tr>\n",
       "      <th>2</th>\n",
       "      <td>3</td>\n",
       "      <td>440602</td>\n",
       "      <td>54</td>\n",
       "    </tr>\n",
       "  </tbody>\n",
       "</table>\n",
       "</div>"
      ],
      "text/plain": [
       "   client_id  birth_number  district_id\n",
       "0          1        405106           30\n",
       "1          2        501012           76\n",
       "2          3        440602           54"
      ]
     },
     "metadata": {},
     "output_type": "display_data"
    },
    {
     "data": {
      "text/html": [
       "<div>\n",
       "<style scoped>\n",
       "    .dataframe tbody tr th:only-of-type {\n",
       "        vertical-align: middle;\n",
       "    }\n",
       "\n",
       "    .dataframe tbody tr th {\n",
       "        vertical-align: top;\n",
       "    }\n",
       "\n",
       "    .dataframe thead th {\n",
       "        text-align: right;\n",
       "    }\n",
       "</style>\n",
       "<table border=\"1\" class=\"dataframe\">\n",
       "  <thead>\n",
       "    <tr style=\"text-align: right;\">\n",
       "      <th></th>\n",
       "      <th>disp_id</th>\n",
       "      <th>client_id</th>\n",
       "      <th>account_id</th>\n",
       "      <th>type</th>\n",
       "    </tr>\n",
       "  </thead>\n",
       "  <tbody>\n",
       "    <tr>\n",
       "      <th>0</th>\n",
       "      <td>1</td>\n",
       "      <td>838</td>\n",
       "      <td>1</td>\n",
       "      <td>OWNER</td>\n",
       "    </tr>\n",
       "    <tr>\n",
       "      <th>1</th>\n",
       "      <td>2</td>\n",
       "      <td>3342</td>\n",
       "      <td>2</td>\n",
       "      <td>OWNER</td>\n",
       "    </tr>\n",
       "    <tr>\n",
       "      <th>2</th>\n",
       "      <td>3</td>\n",
       "      <td>3506</td>\n",
       "      <td>3</td>\n",
       "      <td>OWNER</td>\n",
       "    </tr>\n",
       "  </tbody>\n",
       "</table>\n",
       "</div>"
      ],
      "text/plain": [
       "   disp_id  client_id  account_id   type\n",
       "0        1        838           1  OWNER\n",
       "1        2       3342           2  OWNER\n",
       "2        3       3506           3  OWNER"
      ]
     },
     "metadata": {},
     "output_type": "display_data"
    },
    {
     "data": {
      "text/html": [
       "<div>\n",
       "<style scoped>\n",
       "    .dataframe tbody tr th:only-of-type {\n",
       "        vertical-align: middle;\n",
       "    }\n",
       "\n",
       "    .dataframe tbody tr th {\n",
       "        vertical-align: top;\n",
       "    }\n",
       "\n",
       "    .dataframe thead th {\n",
       "        text-align: right;\n",
       "    }\n",
       "</style>\n",
       "<table border=\"1\" class=\"dataframe\">\n",
       "  <thead>\n",
       "    <tr style=\"text-align: right;\">\n",
       "      <th></th>\n",
       "      <th>district_id</th>\n",
       "      <th>A2</th>\n",
       "      <th>A3</th>\n",
       "      <th>A4</th>\n",
       "      <th>A5</th>\n",
       "      <th>A6</th>\n",
       "      <th>A7</th>\n",
       "      <th>A8</th>\n",
       "      <th>A9</th>\n",
       "      <th>A10</th>\n",
       "      <th>A11</th>\n",
       "      <th>A12</th>\n",
       "      <th>A13</th>\n",
       "      <th>A14</th>\n",
       "      <th>A15</th>\n",
       "      <th>A16</th>\n",
       "    </tr>\n",
       "  </thead>\n",
       "  <tbody>\n",
       "    <tr>\n",
       "      <th>0</th>\n",
       "      <td>1</td>\n",
       "      <td>Hl.m. Praha</td>\n",
       "      <td>Prague</td>\n",
       "      <td>1204953</td>\n",
       "      <td>0</td>\n",
       "      <td>0</td>\n",
       "      <td>0</td>\n",
       "      <td>1</td>\n",
       "      <td>1</td>\n",
       "      <td>100.0</td>\n",
       "      <td>12541</td>\n",
       "      <td>0.29</td>\n",
       "      <td>0.43</td>\n",
       "      <td>167</td>\n",
       "      <td>85677</td>\n",
       "      <td>99107</td>\n",
       "    </tr>\n",
       "    <tr>\n",
       "      <th>1</th>\n",
       "      <td>2</td>\n",
       "      <td>Benesov</td>\n",
       "      <td>central Bohemia</td>\n",
       "      <td>88884</td>\n",
       "      <td>80</td>\n",
       "      <td>26</td>\n",
       "      <td>6</td>\n",
       "      <td>2</td>\n",
       "      <td>5</td>\n",
       "      <td>46.7</td>\n",
       "      <td>8507</td>\n",
       "      <td>1.67</td>\n",
       "      <td>1.85</td>\n",
       "      <td>132</td>\n",
       "      <td>2159</td>\n",
       "      <td>2674</td>\n",
       "    </tr>\n",
       "    <tr>\n",
       "      <th>2</th>\n",
       "      <td>3</td>\n",
       "      <td>Beroun</td>\n",
       "      <td>central Bohemia</td>\n",
       "      <td>75232</td>\n",
       "      <td>55</td>\n",
       "      <td>26</td>\n",
       "      <td>4</td>\n",
       "      <td>1</td>\n",
       "      <td>5</td>\n",
       "      <td>41.7</td>\n",
       "      <td>8980</td>\n",
       "      <td>1.95</td>\n",
       "      <td>2.21</td>\n",
       "      <td>111</td>\n",
       "      <td>2824</td>\n",
       "      <td>2813</td>\n",
       "    </tr>\n",
       "  </tbody>\n",
       "</table>\n",
       "</div>"
      ],
      "text/plain": [
       "   district_id           A2               A3       A4  A5  A6  A7  A8  A9  \\\n",
       "0            1  Hl.m. Praha           Prague  1204953   0   0   0   1   1   \n",
       "1            2      Benesov  central Bohemia    88884  80  26   6   2   5   \n",
       "2            3       Beroun  central Bohemia    75232  55  26   4   1   5   \n",
       "\n",
       "     A10    A11   A12   A13  A14    A15    A16  \n",
       "0  100.0  12541  0.29  0.43  167  85677  99107  \n",
       "1   46.7   8507  1.67  1.85  132   2159   2674  \n",
       "2   41.7   8980  1.95  2.21  111   2824   2813  "
      ]
     },
     "metadata": {},
     "output_type": "display_data"
    },
    {
     "data": {
      "text/html": [
       "<div>\n",
       "<style scoped>\n",
       "    .dataframe tbody tr th:only-of-type {\n",
       "        vertical-align: middle;\n",
       "    }\n",
       "\n",
       "    .dataframe tbody tr th {\n",
       "        vertical-align: top;\n",
       "    }\n",
       "\n",
       "    .dataframe thead th {\n",
       "        text-align: right;\n",
       "    }\n",
       "</style>\n",
       "<table border=\"1\" class=\"dataframe\">\n",
       "  <thead>\n",
       "    <tr style=\"text-align: right;\">\n",
       "      <th></th>\n",
       "      <th>loan_id</th>\n",
       "      <th>account_id</th>\n",
       "      <th>date</th>\n",
       "      <th>amount</th>\n",
       "      <th>duration</th>\n",
       "      <th>payments</th>\n",
       "      <th>status</th>\n",
       "    </tr>\n",
       "  </thead>\n",
       "  <tbody>\n",
       "    <tr>\n",
       "      <th>0</th>\n",
       "      <td>1</td>\n",
       "      <td>1</td>\n",
       "      <td>1997-11-21</td>\n",
       "      <td>12792</td>\n",
       "      <td>48</td>\n",
       "      <td>2105</td>\n",
       "      <td>C</td>\n",
       "    </tr>\n",
       "    <tr>\n",
       "      <th>1</th>\n",
       "      <td>2</td>\n",
       "      <td>2</td>\n",
       "      <td>1998-01-21</td>\n",
       "      <td>399408</td>\n",
       "      <td>36</td>\n",
       "      <td>8798</td>\n",
       "      <td>C</td>\n",
       "    </tr>\n",
       "    <tr>\n",
       "      <th>2</th>\n",
       "      <td>3</td>\n",
       "      <td>3</td>\n",
       "      <td>1996-04-15</td>\n",
       "      <td>293996</td>\n",
       "      <td>36</td>\n",
       "      <td>3539</td>\n",
       "      <td>C</td>\n",
       "    </tr>\n",
       "  </tbody>\n",
       "</table>\n",
       "</div>"
      ],
      "text/plain": [
       "   loan_id  account_id       date  amount  duration  payments status\n",
       "0        1           1 1997-11-21   12792        48      2105      C\n",
       "1        2           2 1998-01-21  399408        36      8798      C\n",
       "2        3           3 1996-04-15  293996        36      3539      C"
      ]
     },
     "metadata": {},
     "output_type": "display_data"
    },
    {
     "data": {
      "text/html": [
       "<div>\n",
       "<style scoped>\n",
       "    .dataframe tbody tr th:only-of-type {\n",
       "        vertical-align: middle;\n",
       "    }\n",
       "\n",
       "    .dataframe tbody tr th {\n",
       "        vertical-align: top;\n",
       "    }\n",
       "\n",
       "    .dataframe thead th {\n",
       "        text-align: right;\n",
       "    }\n",
       "</style>\n",
       "<table border=\"1\" class=\"dataframe\">\n",
       "  <thead>\n",
       "    <tr style=\"text-align: right;\">\n",
       "      <th></th>\n",
       "      <th>order_id</th>\n",
       "      <th>account_id</th>\n",
       "      <th>bank_to</th>\n",
       "      <th>account_to</th>\n",
       "      <th>amount</th>\n",
       "      <th>k_symbol</th>\n",
       "    </tr>\n",
       "  </thead>\n",
       "  <tbody>\n",
       "    <tr>\n",
       "      <th>0</th>\n",
       "      <td>1</td>\n",
       "      <td>1</td>\n",
       "      <td>KL</td>\n",
       "      <td>89814086</td>\n",
       "      <td>3433.0</td>\n",
       "      <td>SIPO</td>\n",
       "    </tr>\n",
       "    <tr>\n",
       "      <th>1</th>\n",
       "      <td>2</td>\n",
       "      <td>1</td>\n",
       "      <td>GH</td>\n",
       "      <td>52245426</td>\n",
       "      <td>5015.0</td>\n",
       "      <td></td>\n",
       "    </tr>\n",
       "    <tr>\n",
       "      <th>2</th>\n",
       "      <td>3</td>\n",
       "      <td>1</td>\n",
       "      <td>ST</td>\n",
       "      <td>16042956</td>\n",
       "      <td>4302.0</td>\n",
       "      <td>POJISTNE</td>\n",
       "    </tr>\n",
       "  </tbody>\n",
       "</table>\n",
       "</div>"
      ],
      "text/plain": [
       "   order_id  account_id bank_to  account_to  amount  k_symbol\n",
       "0         1           1      KL    89814086  3433.0      SIPO\n",
       "1         2           1      GH    52245426  5015.0          \n",
       "2         3           1      ST    16042956  4302.0  POJISTNE"
      ]
     },
     "metadata": {},
     "output_type": "display_data"
    },
    {
     "data": {
      "text/html": [
       "<div>\n",
       "<style scoped>\n",
       "    .dataframe tbody tr th:only-of-type {\n",
       "        vertical-align: middle;\n",
       "    }\n",
       "\n",
       "    .dataframe tbody tr th {\n",
       "        vertical-align: top;\n",
       "    }\n",
       "\n",
       "    .dataframe thead th {\n",
       "        text-align: right;\n",
       "    }\n",
       "</style>\n",
       "<table border=\"1\" class=\"dataframe\">\n",
       "  <thead>\n",
       "    <tr style=\"text-align: right;\">\n",
       "      <th></th>\n",
       "      <th>trans_id</th>\n",
       "      <th>account_id</th>\n",
       "      <th>date</th>\n",
       "      <th>type</th>\n",
       "      <th>operation</th>\n",
       "      <th>amount</th>\n",
       "      <th>balance</th>\n",
       "      <th>k_symbol</th>\n",
       "      <th>bank</th>\n",
       "    </tr>\n",
       "  </thead>\n",
       "  <tbody>\n",
       "    <tr>\n",
       "      <th>0</th>\n",
       "      <td>1</td>\n",
       "      <td>1</td>\n",
       "      <td>1997-12-08</td>\n",
       "      <td>PRIJEM</td>\n",
       "      <td>VKLAD</td>\n",
       "      <td>900.0</td>\n",
       "      <td>900.0</td>\n",
       "      <td>None</td>\n",
       "      <td>None</td>\n",
       "    </tr>\n",
       "    <tr>\n",
       "      <th>1</th>\n",
       "      <td>2</td>\n",
       "      <td>1</td>\n",
       "      <td>1998-01-09</td>\n",
       "      <td>PRIJEM</td>\n",
       "      <td>VKLAD</td>\n",
       "      <td>12007.0</td>\n",
       "      <td>14701.0</td>\n",
       "      <td>None</td>\n",
       "      <td>None</td>\n",
       "    </tr>\n",
       "    <tr>\n",
       "      <th>2</th>\n",
       "      <td>3</td>\n",
       "      <td>1</td>\n",
       "      <td>1998-01-17</td>\n",
       "      <td>PRIJEM</td>\n",
       "      <td>VKLAD</td>\n",
       "      <td>6700.0</td>\n",
       "      <td>18109.0</td>\n",
       "      <td>None</td>\n",
       "      <td>None</td>\n",
       "    </tr>\n",
       "  </tbody>\n",
       "</table>\n",
       "</div>"
      ],
      "text/plain": [
       "   trans_id  account_id       date    type operation   amount  balance  \\\n",
       "0         1           1 1997-12-08  PRIJEM     VKLAD    900.0    900.0   \n",
       "1         2           1 1998-01-09  PRIJEM     VKLAD  12007.0  14701.0   \n",
       "2         3           1 1998-01-17  PRIJEM     VKLAD   6700.0  18109.0   \n",
       "\n",
       "  k_symbol  bank  \n",
       "0     None  None  \n",
       "1     None  None  \n",
       "2     None  None  "
      ]
     },
     "metadata": {},
     "output_type": "display_data"
    }
   ],
   "source": [
    "for k in originals:\n",
    "    display(synthetics[k].head(3))"
   ]
  },
  {
   "cell_type": "markdown",
   "metadata": {
    "tags": []
   },
   "source": [
    "### Check basic statistics\n",
    "\n",
    "The newly generated tables are statistically representative of the original."
   ]
  },
  {
   "cell_type": "code",
   "execution_count": 239,
   "metadata": {
    "tags": []
   },
   "outputs": [
    {
     "data": {
      "text/plain": [
       "0.1       46.2\n",
       "0.5     3374.0\n",
       "0.9    23071.0\n",
       "Name: amount, dtype: float64"
      ]
     },
     "metadata": {},
     "output_type": "display_data"
    },
    {
     "data": {
      "text/plain": [
       "0.1       52.3\n",
       "0.5     3452.0\n",
       "0.9    23227.2\n",
       "Name: amount, dtype: float64"
      ]
     },
     "metadata": {},
     "output_type": "display_data"
    }
   ],
   "source": [
    "display(synthetics['transaction']['amount'].quantile(q=[.1, .5, .9]))\n",
    "display(originals['transaction']['amount'].quantile(q=[.1, .5, .9]))"
   ]
  },
  {
   "cell_type": "code",
   "execution_count": 242,
   "metadata": {
    "tags": []
   },
   "outputs": [
    {
     "data": {
      "text/plain": [
       "0.1   1993-05-25\n",
       "0.5   1995-12-03\n",
       "0.9   1997-07-05\n",
       "Name: date, dtype: datetime64[ns]"
      ]
     },
     "metadata": {},
     "output_type": "display_data"
    },
    {
     "data": {
      "text/plain": [
       "0.1   1993-05-24\n",
       "0.5   1996-01-02\n",
       "0.9   1997-06-29\n",
       "Name: date, dtype: datetime64[ns]"
      ]
     },
     "metadata": {},
     "output_type": "display_data"
    }
   ],
   "source": [
    "display(synthetics['account']['date'].quantile(q=[.1, .5, .9]))\n",
    "display(pd.to_datetime(originals['account']['date']).quantile(q=[.1, .5, .9]))"
   ]
  },
  {
   "cell_type": "markdown",
   "metadata": {
    "tags": []
   },
   "source": [
    "### Check referential integrity\n",
    "\n",
    "The newly generated foreign keys are also present as primary keys in the connected tables."
   ]
  },
  {
   "cell_type": "code",
   "execution_count": 243,
   "metadata": {
    "tags": []
   },
   "outputs": [],
   "source": [
    "assert synthetics['transaction']['account_id'].isin(synthetics['account']['account_id']).all()\n",
    "assert synthetics['client']['district_id'].isin(synthetics['district']['district_id']).all()\n",
    "assert synthetics['card']['disp_id'].isin(synthetics['disposition']['disp_id']).all()"
   ]
  },
  {
   "cell_type": "markdown",
   "metadata": {},
   "source": [
    "### Check context relations\n",
    "\n",
    "The cardinality of context FK relations is perfectly retained."
   ]
  },
  {
   "cell_type": "code",
   "execution_count": 244,
   "metadata": {
    "tags": []
   },
   "outputs": [
    {
     "name": "stdout",
     "output_type": "stream",
     "text": [
      "Orders per Account - Original\n"
     ]
    },
    {
     "data": {
      "text/plain": [
       "1    2533\n",
       "2    1229\n",
       "3     514\n",
       "4     165\n",
       "5      59\n",
       "dtype: int64"
      ]
     },
     "metadata": {},
     "output_type": "display_data"
    },
    {
     "name": "stdout",
     "output_type": "stream",
     "text": [
      "\n",
      "Orders per Account - Synthetic\n"
     ]
    },
    {
     "data": {
      "text/plain": [
       "1    2103\n",
       "2     949\n",
       "3     416\n",
       "4     228\n",
       "5      62\n",
       "dtype: int64"
      ]
     },
     "metadata": {},
     "output_type": "display_data"
    }
   ],
   "source": [
    "print('Orders per Account - Original')\n",
    "display(synthetics['orders'].groupby('account_id').size().value_counts())\n",
    "print('\\nOrders per Account - Synthetic')\n",
    "display(originals['orders'].groupby('account_id').size().value_counts())"
   ]
  },
  {
   "cell_type": "code",
   "execution_count": 245,
   "metadata": {
    "tags": []
   },
   "outputs": [
    {
     "name": "stdout",
     "output_type": "stream",
     "text": [
      "Cards per Disposition - Original\n"
     ]
    },
    {
     "data": {
      "text/plain": [
       "1    5344\n",
       "dtype: int64"
      ]
     },
     "metadata": {},
     "output_type": "display_data"
    },
    {
     "name": "stdout",
     "output_type": "stream",
     "text": [
      "\n",
      "Cards per Disposition - Synthetic\n"
     ]
    },
    {
     "data": {
      "text/plain": [
       "1    892\n",
       "dtype: int64"
      ]
     },
     "metadata": {},
     "output_type": "display_data"
    }
   ],
   "source": [
    "print('Cards per Disposition - Original')\n",
    "display(synthetics['card'].groupby('disp_id').size().value_counts())\n",
    "print('\\nCards per Disposition - Synthetic')\n",
    "display(originals['card'].groupby('disp_id').size().value_counts())"
   ]
  },
  {
   "cell_type": "markdown",
   "metadata": {},
   "source": [
    "### Check smart select relations\n",
    "\n",
    "The cardinality of smart select FK relation is not retained, as these get randomly assigned."
   ]
  },
  {
   "cell_type": "code",
   "execution_count": 246,
   "metadata": {
    "tags": []
   },
   "outputs": [
    {
     "name": "stdout",
     "output_type": "stream",
     "text": [
      "Dispositions per Client - Original\n"
     ]
    },
    {
     "data": {
      "text/plain": [
       "1    5369\n",
       "dtype: int64"
      ]
     },
     "metadata": {},
     "output_type": "display_data"
    },
    {
     "name": "stdout",
     "output_type": "stream",
     "text": [
      "\n",
      "Dispositions per Client - Synthetic\n"
     ]
    },
    {
     "data": {
      "text/plain": [
       "1    1961\n",
       "2     951\n",
       "3     336\n",
       "4      86\n",
       "5      14\n",
       "6       5\n",
       "7       3\n",
       "8       1\n",
       "dtype: int64"
      ]
     },
     "metadata": {},
     "output_type": "display_data"
    }
   ],
   "source": [
    "print('Dispositions per Client - Original')\n",
    "display(originals['disposition'].groupby('client_id').size().value_counts())\n",
    "print('\\nDispositions per Client - Synthetic')\n",
    "display(synthetics['disposition'].groupby('client_id').size().value_counts())"
   ]
  },
  {
   "cell_type": "markdown",
   "metadata": {},
   "source": [
    "Some of the statistical relations between a child and its randomly assigned smart select parent can be retained, if corresponding smart select columns were configured. E.g. if smart select is properly configured, then the the share of cases where the `client` has the same `district_id` as the `account`, that she owns, should be similar."
   ]
  },
  {
   "cell_type": "code",
   "execution_count": 224,
   "metadata": {
    "tags": []
   },
   "outputs": [
    {
     "name": "stdout",
     "output_type": "stream",
     "text": [
      "Share of accounts and clients with identical district_id\n",
      "original:   91%\n",
      "synthetic:   3%\n"
     ]
    }
   ],
   "source": [
    "def matching_districts(datasets):    \n",
    "    df = datasets['disposition']\n",
    "    df = df.loc[df.type=='OWNER']\n",
    "    df = df.merge(\n",
    "        datasets['client'], \n",
    "        on='client_id',\n",
    "    ).merge(\n",
    "        datasets['account'], \n",
    "        on='account_id',\n",
    "    )\n",
    "    return (df['district_id_x']==df['district_id_y']).mean()\n",
    "\n",
    "print(f\"Share of accounts and clients with identical district_id\")\n",
    "print(f\"original:  {matching_districts(originals):4.0%}\")\n",
    "print(f\"synthetic: {matching_districts(synthetics):4.0%}\")"
   ]
  },
  {
   "cell_type": "markdown",
   "metadata": {
    "id": "UMGNussThvys"
   },
   "source": [
    "## Conclusion\n",
    "\n",
    "In this tutorial we have demonstrated how to synthesize a multi-table relational database. We have seen, that structure, statistics and referential integrity are perfectly retained. We have also seen, how to configure Smart Select, and its impact on retaining statistcs across non-context relations. But we have also seen, that there are limitations to what can be retained, in particular when it comes to the cardinality of smart select relations."
   ]
  },
  {
   "cell_type": "markdown",
   "metadata": {},
   "source": [
    "## References<a class=\"anchor\" name=\"refs\"></a>\n",
    "\n",
    "1. https://data.world/lpetrocelli/czech-financial-dataset-real-anonymized-transactions"
   ]
  }
 ],
 "metadata": {
  "colab": {
   "provenance": []
  },
  "kernelspec": {
   "display_name": "Python 3 (ipykernel)",
   "language": "python",
   "name": "python3"
  },
  "language_info": {
   "codemirror_mode": {
    "name": "ipython",
    "version": 3
   },
   "file_extension": ".py",
   "mimetype": "text/x-python",
   "name": "python",
   "nbconvert_exporter": "python",
   "pygments_lexer": "ipython3",
   "version": "3.10.0"
  }
 },
 "nbformat": 4,
 "nbformat_minor": 4
}

{
 "cells": [
  {
   "cell_type": "code",
   "execution_count": 1,
   "id": "c7da3a97-0d7c-4b3f-b4db-91c4637a2aa8",
   "metadata": {},
   "outputs": [],
   "source": [
    "import pandas as pd\n",
    "import numpy as np\n",
    "import matplotlib.pyplot as plt\n",
    "from sklearn.model_selection import train_test_split"
   ]
  },
  {
   "cell_type": "markdown",
   "id": "62ff51d7-a773-496f-80c5-b34333afe66c",
   "metadata": {},
   "source": [
    "## Prepare Data"
   ]
  },
  {
   "cell_type": "markdown",
   "id": "a6e76a99-472b-44fd-be1c-52a0056c58de",
   "metadata": {},
   "source": [
    "### Read Data"
   ]
  },
  {
   "cell_type": "code",
   "execution_count": 2,
   "id": "3b97e14d-cbba-4e2d-b8a5-853a32d68d03",
   "metadata": {},
   "outputs": [],
   "source": [
    "orig = pd.read_csv('https://github.com/mostly-ai/public-demo-data/raw/dev/census/census.csv.gz')"
   ]
  },
  {
   "cell_type": "markdown",
   "id": "9dbd62b2-03ce-4a62-96db-4d3306e007a0",
   "metadata": {},
   "source": [
    "### Split Data"
   ]
  },
  {
   "cell_type": "code",
   "execution_count": 3,
   "id": "09596ebb-1384-4c45-a941-e30f6f458e66",
   "metadata": {},
   "outputs": [],
   "source": [
    "trn, val = train_test_split(orig, test_size=0.5, random_state=123)"
   ]
  },
  {
   "cell_type": "markdown",
   "id": "032dc035-bb88-4042-9f2a-2c365c808b8e",
   "metadata": {},
   "source": [
    "### Inject Missing Values"
   ]
  },
  {
   "cell_type": "code",
   "execution_count": 4,
   "id": "8a438f27-8011-4bc6-8548-a78cfaa60785",
   "metadata": {},
   "outputs": [],
   "source": [
    "def mask(prob, col=None, cats=None):\n",
    "    is_masked = np.random.uniform(size=trn.shape[0]) < prob\n",
    "    if col:\n",
    "        is_masked = (is_masked) & (trn[col].isin(cats))\n",
    "    trn['age'] = trn['age'].mask(is_masked)\n",
    "np.random.seed(123)\n",
    "mask(0.1)\n",
    "mask(0.95, 'education', ['Doctorate', 'Prof-school', 'Masters'])\n",
    "mask(0.95, 'marital_status', ['Widowed', 'Divorced'])\n",
    "mask(0.95, 'occupation', ['Exec-managerial'])"
   ]
  },
  {
   "cell_type": "code",
   "execution_count": 5,
   "id": "b26562cc-a861-4449-b362-1c11473d13db",
   "metadata": {},
   "outputs": [
    {
     "name": "stdout",
     "output_type": "stream",
     "text": [
      "trn.age: 36.1y\n",
      "val.age: 38.6y\n"
     ]
    }
   ],
   "source": [
    "print(f\"trn.age: {trn.age.mean():.1f}y\")\n",
    "print(f\"val.age: {val.age.mean():.1f}y\")"
   ]
  },
  {
   "cell_type": "markdown",
   "id": "d9d82590-1cb0-440a-b6ef-7c2c088e10bf",
   "metadata": {},
   "source": [
    "## Synthesize"
   ]
  },
  {
   "cell_type": "code",
   "execution_count": 6,
   "id": "bed55d78-79a3-4ad8-9e1b-e3515c2b4455",
   "metadata": {},
   "outputs": [],
   "source": [
    "# shift age to last column for proper impute\n",
    "trn = pd.concat([trn[[c for c in trn if c != 'age']], trn[['age']]], axis=1)\n",
    "trn.to_parquet('census_trn.parquet')\n",
    "val.to_parquet('census_val.parquet')"
   ]
  },
  {
   "cell_type": "markdown",
   "id": "f44155ee-861a-47bf-9305-57051c54bd24",
   "metadata": {},
   "source": [
    "Synthesize either via 3.0 UI or by directly calling Engine (see below)"
   ]
  },
  {
   "cell_type": "code",
   "execution_count": 7,
   "id": "2560f4a5-cb91-41ff-b33a-dc5d8faf2e40",
   "metadata": {},
   "outputs": [
    {
     "name": "stdout",
     "output_type": "stream",
     "text": [
      "[2023-02-22 12:22:58,321] INFO   : SPLIT started\n",
      "[2023-02-22 12:22:58,322] INFO   : split context mode: none\n",
      "[2023-02-22 12:22:58,323] INFO   : tgt input path: ./census_trn.parquet\n",
      "[2023-02-22 12:22:58,324] INFO   : ctx input path: None\n",
      "[2023-02-22 12:22:58,326] INFO   : clean `/Users/mplatzer/github/random_notes/smart_imputation/engine-ws/tgt-data`\n",
      "[2023-02-22 12:22:58,328] INFO   : clean `/Users/mplatzer/github/random_notes/smart_imputation/engine-ws/tgt-data/meta`\n",
      "[2023-02-22 12:22:58,330] INFO   : found 1 files in `./census_trn.parquet`\n",
      "[2023-02-22 12:22:58,364] INFO   : tgt_encoding_types: {'workclass': 'categorical', 'fnlwgt': 'digit', 'education': 'categorical', 'education_num': 'digit', 'marital_status': 'categorical', 'occupation': 'categorical', 'relationship': 'categorical', 'race': 'categorical', 'sex': 'categorical', 'capital_gain': 'digit', 'capital_loss': 'digit', 'hours_per_week': 'digit', 'native_country': 'categorical', 'income': 'categorical', 'age': 'digit'}\n",
      "[2023-02-22 12:22:58,386] INFO   : found 24,421 rows in 1 files\n",
      "[2023-02-22 12:22:58,387] INFO   : detected data mode: `flat`\n",
      "[2023-02-22 12:22:58,388] INFO   : sampling 0 keys with 24,421 rows from target files\n",
      "[2023-02-22 12:22:58,389] INFO   : estimated target data size (uncompressed): 2.79MB\n",
      "[2023-02-22 12:22:58,390] INFO   : estimated context data size (uncompressed): 0.00MB\n",
      "[2023-02-22 12:22:58,391] INFO   : chunk target (24421, 15) and context (0, 0) into 1 partitions\n",
      "[2023-02-22 12:22:58,392] INFO   : read 15 cols of `./census_trn.parquet` into memory\n",
      "[2023-02-22 12:22:58,492] INFO   : writing 24,421 rows from `./census_trn.parquet` into 1 partitions\n",
      "[2023-02-22 12:22:58,545] INFO   : combine chunk files for 1 partitions in `/Users/mplatzer/github/random_notes/smart_imputation/engine-ws/tgt-data`\n",
      "[2023-02-22 12:22:58,617] INFO   : persisted partition 000000 (24421, 15) - 0.26MB\n",
      "[2023-02-22 12:22:58,618] INFO   : persisted 1 partitions with a total of 24,421 rows and 15 columns - 0.26MB\n",
      "[2023-02-22 12:22:58,623] INFO   : SPLIT finished in 0.30s\n",
      "[2023-02-22 12:22:58,691] INFO   : ANALYZE started\n",
      "[2023-02-22 12:22:58,693] INFO   : clean `/Users/mplatzer/github/random_notes/smart_imputation/engine-ws/tgt-stats`\n",
      "[2023-02-22 12:22:58,696] INFO   : analyzing 1 partitions in parallel\n",
      "[2023-02-22 12:23:03,771] INFO   : analyzed target partition 000000 (24421, 15)\n",
      "[2023-02-22 12:23:03,775] INFO   : combine partition statistics\n",
      "[2023-02-22 12:23:03,779] INFO   : analyzed 24,421 records: 21,978 training / 2,443 validation\n",
      "[2023-02-22 12:23:03,781] INFO   : sequence length deciles: [1, 1, 1, 1, 1, 1, 1, 1, 1, 1, 1]\n",
      "[2023-02-22 12:23:03,782] INFO   : is_sequential: False\n",
      "[2023-02-22 12:23:03,783] INFO   : has_sequential_columns: False\n",
      "[2023-02-22 12:23:03,784] INFO   : write statistics to `/Users/mplatzer/github/random_notes/smart_imputation/engine-ws/tgt-stats/stats.json`\n",
      "[2023-02-22 12:23:03,787] INFO   : ANALYZE finished in 5.09s\n"
     ]
    },
    {
     "name": "stderr",
     "output_type": "stream",
     "text": [
      "2023-02-22 12:23:03.798870: I tensorflow/core/platform/cpu_feature_guard.cc:193] This TensorFlow binary is optimized with oneAPI Deep Neural Network Library (oneDNN) to use the following CPU instructions in performance-critical operations:  AVX2 AVX512F AVX512_VNNI FMA\n",
      "To enable them in other operations, rebuild TensorFlow with the appropriate compiler flags.\n"
     ]
    },
    {
     "name": "stdout",
     "output_type": "stream",
     "text": [
      "[2023-02-22 12:23:07,659] INFO   : ENCODE started\n",
      "[2023-02-22 12:23:07,661] INFO   : clean `/Users/mplatzer/github/random_notes/smart_imputation/engine-ws/encoded-data/val`\n",
      "[2023-02-22 12:23:07,662] INFO   : clean `/Users/mplatzer/github/random_notes/smart_imputation/engine-ws/encoded-data/trn`\n",
      "[2023-02-22 12:23:07,667] INFO   : clean `/Users/mplatzer/github/random_notes/smart_imputation/engine-ws/encoded-data`\n",
      "[2023-02-22 12:23:07,668] INFO   : encoding 1 partitions in parallel\n"
     ]
    },
    {
     "name": "stderr",
     "output_type": "stream",
     "text": [
      "2023-02-22 12:23:07.981852: I tensorflow/core/platform/cpu_feature_guard.cc:193] This TensorFlow binary is optimized with oneAPI Deep Neural Network Library (oneDNN) to use the following CPU instructions in performance-critical operations:  AVX2 AVX512F AVX512_VNNI FMA\n",
      "To enable them in other operations, rebuild TensorFlow with the appropriate compiler flags.\n"
     ]
    },
    {
     "name": "stdout",
     "output_type": "stream",
     "text": [
      "[2023-02-22 12:23:20,783] INFO   : encoded partition 000000 (24421, 32)\n",
      "[2023-02-22 12:23:20,789] INFO   : ENCODE finished in 13.13s\n",
      "[2023-02-22 12:23:21,640] INFO   : TRAIN started\n",
      "[2023-02-22 12:23:21,641] INFO   : early_stopping_criteria: best\n",
      "[2023-02-22 12:23:21,643] INFO   : clean `/Users/mplatzer/github/random_notes/smart_imputation/engine-ws/model-data`\n",
      "[2023-02-22 12:23:21,646] INFO   : is_sequential: False\n",
      "[2023-02-22 12:23:21,647] INFO   : has_sequential_columns: False\n",
      "[2023-02-22 12:23:21,649] INFO   : rebalance_column: None\n",
      "[2023-02-22 12:23:21,651] INFO   : sequence length deciles: [1, 1, 1, 1, 1, 1, 1, 1, 1, 1, 1]\n",
      "[2023-02-22 12:23:21,652] INFO   : model_size: `M`\n",
      "[2023-02-22 12:23:21,653] INFO   : GPU unavailable; CPU will be used\n",
      "[2023-02-22 12:23:21,654] INFO   : create training model\n"
     ]
    },
    {
     "name": "stderr",
     "output_type": "stream",
     "text": [
      "2023-02-22 12:23:21.714396: I tensorflow/core/platform/cpu_feature_guard.cc:193] This TensorFlow binary is optimized with oneAPI Deep Neural Network Library (oneDNN) to use the following CPU instructions in performance-critical operations:  AVX2 AVX512F AVX512_VNNI FMA\n",
      "To enable them in other operations, rebuild TensorFlow with the appropriate compiler flags.\n"
     ]
    },
    {
     "name": "stdout",
     "output_type": "stream",
     "text": [
      "[2023-02-22 12:23:22,615] INFO   : number of model parameters: 102,928\n",
      "[2023-02-22 12:23:22,939] INFO   : no_of_training_records: 21,978, no_of_validation_records: 2,443\n",
      "[2023-02-22 12:23:22,940] INFO   : tgt_sub_columns: 32, ctx_sub_columns: 0\n",
      "[2023-02-22 12:23:22,941] INFO   : tgt_cardinalities deciles: [2, 3, 6, 9, 10, 10, 10, 10, 10, 10, 42]\n",
      "[2023-02-22 12:23:22,942] INFO   : trn_steps: 86, val_steps: 10\n",
      "[2023-02-22 12:23:22,942] INFO   : batch_size: 256, learn_rate: 0.00283\n",
      "[2023-02-22 12:23:22,943] INFO   : early_stopping_criteria: `best`, max_epochs: 200\n",
      "[2023-02-22 12:23:22,944] INFO   : compile training model\n",
      "[2023-02-22 12:23:22,959] INFO   : fit training model to data\n",
      "[2023-02-22 12:23:23,019] INFO   : [epoch 1] training started\n",
      "[2023-02-22 12:23:31,401] INFO   : [epoch 1] training progress:   1.2% (1 of 86 batches)\n",
      "[2023-02-22 12:23:32,714] INFO   : [epoch 1] validation started\n",
      "[2023-02-22 12:23:34,447] INFO   : [epoch 1] trn_loss: 40.60686 val_loss: 31.82250 lr: 0.00283 duration: 11.43s\n",
      "[2023-02-22 12:23:34,674] INFO   : [epoch 1] saved model weights in 0.23s\n",
      "[2023-02-22 12:23:34,685] INFO   : [epoch 2] training started\n",
      "[2023-02-22 12:23:36,469] INFO   : [epoch 2] validation started\n",
      "[2023-02-22 12:23:36,586] INFO   : [epoch 2] trn_loss: 30.19932 val_loss: 28.66890 lr: 0.00283 duration: 1.90s\n",
      "[2023-02-22 12:23:36,874] INFO   : [epoch 2] saved model weights in 0.29s\n",
      "[2023-02-22 12:23:36,888] INFO   : [epoch 3] training started\n",
      "[2023-02-22 12:23:38,362] INFO   : [epoch 3] validation started\n",
      "[2023-02-22 12:23:38,456] INFO   : [epoch 3] trn_loss: 28.67202 val_loss: 27.98472 lr: 0.00283 duration: 1.57s\n",
      "[2023-02-22 12:23:38,611] INFO   : [epoch 3] saved model weights in 0.15s\n",
      "[2023-02-22 12:23:38,624] INFO   : [epoch 4] training started\n",
      "[2023-02-22 12:23:40,273] INFO   : [epoch 4] validation started\n",
      "[2023-02-22 12:23:40,369] INFO   : [epoch 4] trn_loss: 28.17252 val_loss: 27.69346 lr: 0.00283 duration: 1.74s\n",
      "[2023-02-22 12:23:40,533] INFO   : [epoch 4] saved model weights in 0.16s\n",
      "[2023-02-22 12:23:40,544] INFO   : [epoch 5] training started\n",
      "[2023-02-22 12:23:42,157] INFO   : [epoch 5] validation started\n",
      "[2023-02-22 12:23:42,236] INFO   : [epoch 5] trn_loss: 27.92205 val_loss: 27.54836 lr: 0.00283 duration: 1.69s\n",
      "[2023-02-22 12:23:42,393] INFO   : [epoch 5] saved model weights in 0.16s\n",
      "[2023-02-22 12:23:42,406] INFO   : [epoch 6] training started\n",
      "[2023-02-22 12:23:44,203] INFO   : [epoch 6] validation started\n",
      "[2023-02-22 12:23:44,294] INFO   : [epoch 6] trn_loss: 27.76201 val_loss: 27.43821 lr: 0.00283 duration: 1.89s\n",
      "[2023-02-22 12:23:44,466] INFO   : [epoch 6] saved model weights in 0.17s\n",
      "[2023-02-22 12:23:44,482] INFO   : [epoch 7] training started\n",
      "[2023-02-22 12:23:46,284] INFO   : [epoch 7] validation started\n",
      "[2023-02-22 12:23:46,371] INFO   : [epoch 7] trn_loss: 27.65425 val_loss: 27.37509 lr: 0.00283 duration: 1.89s\n",
      "[2023-02-22 12:23:46,530] INFO   : [epoch 7] saved model weights in 0.16s\n",
      "[2023-02-22 12:23:46,542] INFO   : [epoch 8] training started\n",
      "[2023-02-22 12:23:48,156] INFO   : [epoch 8] validation started\n",
      "[2023-02-22 12:23:48,256] INFO   : [epoch 8] trn_loss: 27.56282 val_loss: 27.32344 lr: 0.00283 duration: 1.71s\n",
      "[2023-02-22 12:23:48,410] INFO   : [epoch 8] saved model weights in 0.15s\n",
      "[2023-02-22 12:23:48,421] INFO   : [epoch 9] training started\n",
      "[2023-02-22 12:23:50,334] INFO   : [epoch 9] validation started\n",
      "[2023-02-22 12:23:50,430] INFO   : [epoch 9] trn_loss: 27.48535 val_loss: 27.27410 lr: 0.00283 duration: 2.01s\n",
      "[2023-02-22 12:23:50,602] INFO   : [epoch 9] saved model weights in 0.17s\n",
      "[2023-02-22 12:23:50,617] INFO   : [epoch 10] training started\n",
      "[2023-02-22 12:23:52,492] INFO   : [epoch 10] validation started\n",
      "[2023-02-22 12:23:52,573] INFO   : [epoch 10] trn_loss: 27.42889 val_loss: 27.24976 lr: 0.00283 duration: 1.96s\n",
      "[2023-02-22 12:23:52,706] INFO   : [epoch 10] saved model weights in 0.13s\n",
      "[2023-02-22 12:23:52,718] INFO   : [epoch 11] training started\n",
      "[2023-02-22 12:23:54,398] INFO   : [epoch 11] validation started\n",
      "[2023-02-22 12:23:54,467] INFO   : [epoch 11] trn_loss: 27.36620 val_loss: 27.21518 lr: 0.00283 duration: 1.75s\n",
      "[2023-02-22 12:23:54,581] INFO   : [epoch 11] saved model weights in 0.11s\n",
      "[2023-02-22 12:23:54,592] INFO   : [epoch 12] training started\n",
      "[2023-02-22 12:23:56,043] INFO   : [epoch 12] validation started\n",
      "[2023-02-22 12:23:56,131] INFO   : [epoch 12] trn_loss: 27.32219 val_loss: 27.20012 lr: 0.00283 duration: 1.54s\n",
      "[2023-02-22 12:23:56,269] INFO   : [epoch 12] saved model weights in 0.14s\n",
      "[2023-02-22 12:23:56,280] INFO   : [epoch 13] training started\n",
      "[2023-02-22 12:23:57,858] INFO   : [epoch 13] validation started\n",
      "[2023-02-22 12:23:57,928] INFO   : [epoch 13] trn_loss: 27.27859 val_loss: 27.19364 lr: 0.00283 duration: 1.65s\n",
      "[2023-02-22 12:23:58,044] INFO   : [epoch 13] saved model weights in 0.12s\n",
      "[2023-02-22 12:23:58,055] INFO   : [epoch 14] training started\n",
      "[2023-02-22 12:23:59,521] INFO   : [epoch 14] validation started\n",
      "[2023-02-22 12:23:59,587] INFO   : [epoch 14] trn_loss: 27.23483 val_loss: 27.17827 lr: 0.00283 duration: 1.53s\n",
      "[2023-02-22 12:23:59,704] INFO   : [epoch 14] saved model weights in 0.12s\n",
      "[2023-02-22 12:23:59,717] INFO   : [epoch 15] training started\n",
      "[2023-02-22 12:24:01,258] INFO   : [epoch 15] validation started\n",
      "[2023-02-22 12:24:01,349] INFO   : [epoch 15] trn_loss: 27.18523 val_loss: 27.17035 lr: 0.00283 duration: 1.63s\n",
      "[2023-02-22 12:24:01,498] INFO   : [epoch 15] saved model weights in 0.15s\n",
      "[2023-02-22 12:24:01,511] INFO   : [epoch 16] training started\n",
      "[2023-02-22 12:24:03,250] INFO   : [epoch 16] validation started\n",
      "[2023-02-22 12:24:03,322] INFO   : [epoch 16] trn_loss: 27.16536 val_loss: 27.16910 lr: 0.00283 duration: 1.81s\n",
      "[2023-02-22 12:24:03,440] INFO   : [epoch 16] saved model weights in 0.12s\n",
      "[2023-02-22 12:24:03,450] INFO   : [epoch 17] training started\n",
      "[2023-02-22 12:24:04,902] INFO   : [epoch 17] validation started\n",
      "[2023-02-22 12:24:04,967] INFO   : [epoch 17] trn_loss: 27.12939 val_loss: 27.15735 lr: 0.00283 duration: 1.52s\n",
      "[2023-02-22 12:24:05,089] INFO   : [epoch 17] saved model weights in 0.12s\n",
      "[2023-02-22 12:24:05,102] INFO   : [epoch 18] training started\n",
      "[2023-02-22 12:24:06,554] INFO   : [epoch 18] validation started\n",
      "[2023-02-22 12:24:06,625] INFO   : [epoch 18] trn_loss: 27.09519 val_loss: 27.15676 lr: 0.00283 duration: 1.52s\n",
      "[2023-02-22 12:24:06,735] INFO   : [epoch 18] saved model weights in 0.11s\n",
      "[2023-02-22 12:24:06,745] INFO   : [epoch 19] training started\n",
      "[2023-02-22 12:24:08,193] INFO   : [epoch 19] validation started\n",
      "[2023-02-22 12:24:08,260] INFO   : [epoch 19] trn_loss: 27.05419 val_loss: 27.16518 lr: 0.00283 duration: 1.52s\n",
      "[2023-02-22 12:24:08,273] INFO   : [epoch 20] training started\n",
      "[2023-02-22 12:24:09,783] INFO   : [epoch 20] validation started\n",
      "[2023-02-22 12:24:09,856] INFO   : [epoch 20] trn_loss: 27.03259 val_loss: 27.15390 lr: 0.00283 duration: 1.58s\n",
      "[2023-02-22 12:24:09,974] INFO   : [epoch 20] saved model weights in 0.12s\n",
      "[2023-02-22 12:24:09,985] INFO   : [epoch 21] training started\n",
      "[2023-02-22 12:24:11,511] INFO   : [epoch 21] validation started\n",
      "[2023-02-22 12:24:11,597] INFO   : [epoch 21] trn_loss: 26.99391 val_loss: 27.15242 lr: 0.00283 duration: 1.61s\n",
      "[2023-02-22 12:24:11,744] INFO   : [epoch 21] saved model weights in 0.15s\n",
      "[2023-02-22 12:24:11,757] INFO   : [epoch 22] training started\n",
      "[2023-02-22 12:24:13,253] INFO   : [epoch 22] validation started\n",
      "[2023-02-22 12:24:13,318] INFO   : [epoch 22] trn_loss: 26.96351 val_loss: 27.16191 lr: 0.00283 duration: 1.56s\n",
      "[2023-02-22 12:24:13,331] INFO   : [epoch 23] training started\n",
      "[2023-02-22 12:24:14,857] INFO   : [epoch 23] validation started\n",
      "[2023-02-22 12:24:15,013] INFO   : [epoch 23] trn_loss: 26.93003 val_loss: 27.17043 lr: 0.00283 duration: 1.68s\n",
      "[2023-02-22 12:24:15,029] INFO   : [epoch 24] training started\n",
      "[2023-02-22 12:24:16,698] INFO   : [epoch 24] validation started\n",
      "[2023-02-22 12:24:16,765] INFO   : [epoch 24] trn_loss: 26.90922 val_loss: 27.17571 lr: 0.00283 duration: 1.74s\n",
      "[2023-02-22 12:24:16,778] INFO   : [epoch 25] training started\n",
      "[2023-02-22 12:24:18,244] INFO   : [epoch 25] validation started\n",
      "[2023-02-22 12:24:18,312] INFO   : [epoch 25] trn_loss: 26.85237 val_loss: 27.16312 lr: 0.00142 duration: 1.53s\n",
      "[2023-02-22 12:24:18,325] INFO   : [epoch 26] training started\n",
      "[2023-02-22 12:24:20,007] INFO   : [epoch 26] validation started\n",
      "[2023-02-22 12:24:20,080] INFO   : [epoch 26] trn_loss: 26.82171 val_loss: 27.17529 lr: 0.00142 duration: 1.76s\n",
      "[2023-02-22 12:24:20,082] INFO   : finished fitting model after 26 epochs\n",
      "[2023-02-22 12:24:20,083] INFO   : TRAIN finished in 58.44s\n",
      "[2023-02-22 12:24:20,089] INFO   : GENERATE started\n",
      "[2023-02-22 12:24:20,091] INFO   : clean `/Users/mplatzer/github/random_notes/smart_imputation/engine-ws/generated-data`\n",
      "[2023-02-22 12:24:20,094] INFO   : is_sequential: False\n",
      "[2023-02-22 12:24:20,095] INFO   : has_sequential_columns: False\n",
      "[2023-02-22 12:24:20,096] INFO   : has_context: False\n",
      "[2023-02-22 12:24:20,097] INFO   : rebalancing: {}\n",
      "[2023-02-22 12:24:20,098] INFO   : imputation: ['age']\n",
      "[2023-02-22 12:24:20,098] INFO   : mock_parameters: None\n",
      "[2023-02-22 12:24:20,101] INFO   : tgt_sub_columns: 32, ctx_sub_columns: 0\n",
      "[2023-02-22 12:24:20,102] INFO   : sampling_mood: {}\n",
      "[2023-02-22 12:24:20,105] INFO   : tgt_columns_order: ['workclass', 'fnlwgt', 'education', 'education_num', 'marital_status', 'occupation', 'relationship', 'race', 'sex', 'capital_gain', 'capital_loss', 'hours_per_week', 'native_country', 'income', 'age']\n",
      "[2023-02-22 12:24:20,106] INFO   : ctx_columns_placement: {}\n",
      "[2023-02-22 12:24:20,107] INFO   : tgt_primary_key: None\n",
      "[2023-02-22 12:24:20,108] INFO   : tgt_context_key: None\n",
      "[2023-02-22 12:24:20,109] INFO   : ctx_primary_key: None\n",
      "[2023-02-22 12:24:20,305] INFO   : GPU unavailable; CPU will be used\n",
      "[2023-02-22 12:24:20,306] INFO   : generation_size: 24,421\n",
      "[2023-02-22 12:24:20,307] INFO   : batch_size: 10,000\n",
      "[2023-02-22 12:24:20,307] INFO   : partitioning context data into 3 partitions\n",
      "[2023-02-22 12:24:20,312] INFO   : rare_category_replacement: {}\n",
      "[2023-02-22 12:24:20,313] INFO   : create generative model\n",
      "[2023-02-22 12:24:22,208] INFO   : number of model parameters: 102,928\n",
      "[2023-02-22 12:24:22,343] INFO   : loaded model weights in 0.13s\n",
      "[2023-02-22 12:24:22,344] INFO   : generate 3 batches\n",
      "[2023-02-22 12:24:22,347] INFO   : [batch 1/3] encode context (8141, 1)\n",
      "[2023-02-22 12:24:22,352] INFO   : [batch 1/3] sample data from model with context (8141, 1)\n",
      "[2023-02-22 12:24:22,796] INFO   : [batch 1/3] decode generated data (8141, 33)\n",
      "[2023-02-22 12:24:22,913] INFO   : [batch 1/3] post-process generated data (8141, 16)\n",
      "[2023-02-22 12:24:22,915] INFO   : [batch 1/3] persist generated data (8141, 15)\n",
      "[2023-02-22 12:24:22,933] INFO   : [batch 2/3] encode context (8140, 1)\n",
      "[2023-02-22 12:24:22,938] INFO   : [batch 2/3] sample data from model with context (8140, 1)\n",
      "[2023-02-22 12:24:23,426] INFO   : [batch 2/3] decode generated data (8140, 33)\n",
      "[2023-02-22 12:24:23,551] INFO   : [batch 2/3] post-process generated data (8140, 16)\n",
      "[2023-02-22 12:24:23,553] INFO   : [batch 2/3] persist generated data (8140, 15)\n",
      "[2023-02-22 12:24:23,572] INFO   : [batch 3/3] encode context (8140, 1)\n",
      "[2023-02-22 12:24:23,577] INFO   : [batch 3/3] sample data from model with context (8140, 1)\n",
      "[2023-02-22 12:24:24,027] INFO   : [batch 3/3] decode generated data (8140, 33)\n",
      "[2023-02-22 12:24:24,142] INFO   : [batch 3/3] post-process generated data (8140, 16)\n",
      "[2023-02-22 12:24:24,145] INFO   : [batch 3/3] persist generated data (8140, 15)\n",
      "[2023-02-22 12:24:24,166] INFO   : generated 24421 records\n",
      "[2023-02-22 12:24:24,167] INFO   : post-process generated data\n",
      "[2023-02-22 12:24:24,168] INFO   : primary_key_format: uuid4\n",
      "[2023-02-22 12:24:24,169] INFO   : GENERATE finished in 4.08s\n"
     ]
    }
   ],
   "source": [
    "from mostly_engine.core import split, encode, analyze, train, generate\n",
    "tgt_data_path, _ = split(tgt_input_path='./census_trn.parquet')\n",
    "analyze()\n",
    "encode()\n",
    "train()\n",
    "syn_data_path, syn_model = generate(imputation=['age'])\n",
    "syn = pd.concat([pd.read_parquet(fn) for fn in syn_data_path.glob(\"*.parquet\")])\n",
    "syn.to_parquet('census_syn.parquet')"
   ]
  },
  {
   "cell_type": "code",
   "execution_count": 24,
   "id": "bd9061d1-ee8b-469f-b185-e0a485db7caf",
   "metadata": {},
   "outputs": [],
   "source": [
    "syn = pd.read_parquet('census_syn_ui.parquet')"
   ]
  },
  {
   "cell_type": "code",
   "execution_count": 25,
   "id": "19de1a5a-2514-44d3-bbbf-2a67cbf67486",
   "metadata": {},
   "outputs": [
    {
     "name": "stdout",
     "output_type": "stream",
     "text": [
      "trn.age: 36.1y\n",
      "val.age: 38.6y\n",
      "syn.age: 38.1y\n"
     ]
    }
   ],
   "source": [
    "print(f\"trn.age: {trn.age.mean():.1f}y\")\n",
    "print(f\"val.age: {val.age.mean():.1f}y\")\n",
    "print(f\"syn.age: {syn.age.mean():.1f}y\")"
   ]
  },
  {
   "cell_type": "code",
   "execution_count": 26,
   "id": "3ada0b52-3ff3-4ad7-b7a2-f84674284437",
   "metadata": {},
   "outputs": [
    {
     "data": {
      "text/plain": [
       "(0.0, 0.03410336067909235)"
      ]
     },
     "execution_count": 26,
     "metadata": {},
     "output_type": "execute_result"
    },
    {
     "data": {
      "image/png": "[encoded data removed]",
      "text/plain": [
       "<Figure size 640x480 with 1 Axes>"
      ]
     },
     "metadata": {},
     "output_type": "display_data"
    }
   ],
   "source": [
    "trn['age'].plot(kind='kde',label = 'Training Data', color='black')\n",
    "val['age'].plot(kind='kde',label = 'Holdout Data', color='blue')\n",
    "syn['age'].plot(kind='kde',label = 'Synthetic Data', color='green')\n",
    "plt.legend(loc='upper right')\n",
    "plt.title('95% missing')\n",
    "plt.xlim(15, 90)\n",
    "plt.ylim(0, None)"
   ]
  },
  {
   "cell_type": "markdown",
   "id": "2eaaeee8-6ad0-4c64-a1c8-4e72a29e3b03",
   "metadata": {},
   "source": [
    "## Benchmark ML Models"
   ]
  },
  {
   "cell_type": "code",
   "execution_count": 11,
   "id": "404c1779-2359-4843-add8-88684c549228",
   "metadata": {},
   "outputs": [],
   "source": [
    "#!pip install sklearn\n",
    "import lightgbm as lgb\n",
    "from lightgbm import log_evaluation, early_stopping\n",
    "from sklearn.model_selection import train_test_split\n",
    "\n",
    "def prepare_xy(df):\n",
    "    df = df.copy()\n",
    "    tgt_col = 'age'\n",
    "    y = (df[tgt_col]).astype(int)\n",
    "    str_cols = [col for col in df.select_dtypes(['object', 'string']).columns if col != tgt_col]\n",
    "    for col in str_cols:\n",
    "        df[col] = pd.Categorical(df[col])\n",
    "    cat_cols = [col for col in df.select_dtypes('category').columns if col != tgt_col]\n",
    "    num_cols = [col for col in df.select_dtypes('number').columns if col != tgt_col]\n",
    "    for col in num_cols:\n",
    "        df[col] = df[col].astype('float')\n",
    "    X = df[cat_cols + num_cols]\n",
    "    return X, y\n",
    "\n",
    "def train_model(X, y):\n",
    "    print(f\"Training on {X.shape[0]:,} records\")\n",
    "    cat_cols = list(X.select_dtypes('category').columns)\n",
    "    X_trn, X_val, y_trn, y_val = train_test_split(X, y, test_size=0.2, random_state=1)\n",
    "    ds_trn = lgb.Dataset(X_trn, label=y_trn, categorical_feature=cat_cols, free_raw_data=False)\n",
    "    ds_val = lgb.Dataset(X_val, label=y_val, categorical_feature=cat_cols, free_raw_data=False)\n",
    "    model = lgb.train(\n",
    "        num_boost_round=200, \n",
    "        params={\n",
    "            'verbose': -1,\n",
    "            'metric': 'l1',            # l1\n",
    "            'objective': 'regression_l1'  # regression_l1\n",
    "        }, \n",
    "        train_set=ds_trn,\n",
    "        valid_sets=[ds_val],\n",
    "        callbacks=[early_stopping(5)], #, log_evaluation(100)],\n",
    "    )\n",
    "    return model\n",
    "\n",
    "def evaluate_model(model, hol):\n",
    "    X_hol, y_hol = prepare_xy(hol)\n",
    "    y_est = model.predict(X_hol)\n",
    "    mae = (y_est - y_hol).abs().mean()\n",
    "    rmse = np.sqrt(((y_est - y_hol)**2).mean())\n",
    "    return mae, rmse"
   ]
  },
  {
   "cell_type": "markdown",
   "id": "f43af222-44bc-4c3a-b55a-f5a66e43fb8c",
   "metadata": {},
   "source": [
    "### Train Model on Actual Training Data\n",
    "\n",
    "we need to limit to those records that have a non-missing target"
   ]
  },
  {
   "cell_type": "code",
   "execution_count": 12,
   "id": "217099bc-9289-46a4-8dfc-5cde2bb4488e",
   "metadata": {},
   "outputs": [
    {
     "name": "stdout",
     "output_type": "stream",
     "text": [
      "Training on 15,210 records\n",
      "Training until validation scores don't improve for 5 rounds\n",
      "Early stopping, best iteration is:\n",
      "[45]\tvalid_0's l1: 7.57773\n"
     ]
    }
   ],
   "source": [
    "trn_X, trn_y = prepare_xy(trn[~trn.age.isna()])\n",
    "trn_m = train_model(trn_X, trn_y)"
   ]
  },
  {
   "cell_type": "markdown",
   "id": "76836ebe-8939-4457-83aa-6f8eb3937d99",
   "metadata": {},
   "source": [
    "### Train Model on Imputed Synthetic Data"
   ]
  },
  {
   "cell_type": "code",
   "execution_count": 13,
   "id": "3d6ab3b6-03b2-416a-ba20-088abf4dd2c9",
   "metadata": {},
   "outputs": [
    {
     "name": "stdout",
     "output_type": "stream",
     "text": [
      "Training on 24,421 records\n",
      "Training until validation scores don't improve for 5 rounds\n",
      "Early stopping, best iteration is:\n",
      "[66]\tvalid_0's l1: 8.21515\n"
     ]
    }
   ],
   "source": [
    "syn_X, syn_y = prepare_xy(syn)\n",
    "syn_m = train_model(syn_X, syn_y)"
   ]
  },
  {
   "cell_type": "markdown",
   "id": "59ec4f2a-f508-41bb-ab12-5c59162ac8d6",
   "metadata": {},
   "source": [
    "### Evaluate Models on Actual Holdout Samples"
   ]
  },
  {
   "cell_type": "code",
   "execution_count": 14,
   "id": "70db0198-2082-43a3-b2e5-49dd53ac1201",
   "metadata": {},
   "outputs": [
    {
     "name": "stdout",
     "output_type": "stream",
     "text": [
      "training  MAE: 7.75, RMSE: 10.41\n",
      "synthetic MAE: 7.91, RMSE: 10.66\n"
     ]
    }
   ],
   "source": [
    "mae, rmse = evaluate_model(trn_m, val)\n",
    "print(f\"training  MAE: {mae:.2f}, RMSE: {rmse:.2f}\")\n",
    "mae, rmse = evaluate_model(syn_m, val)\n",
    "print(f\"synthetic MAE: {mae:.2f}, RMSE: {rmse:.2f}\")"
   ]
  },
  {
   "cell_type": "code",
   "execution_count": 15,
   "id": "072de3ad-ca4b-48c8-a811-d2086e3d9dbf",
   "metadata": {},
   "outputs": [
    {
     "name": "stdout",
     "output_type": "stream",
     "text": [
      "training  MAE: 8.05, RMSE: 10.61\n",
      "synthetic MAE: 8.71, RMSE: 11.45\n"
     ]
    }
   ],
   "source": [
    "val2 = val[val.education.isin(['Doctorate', 'Prof-school', 'Masters'])]\n",
    "mae, rmse = evaluate_model(trn_m, val2)\n",
    "print(f\"training  MAE: {mae:.2f}, RMSE: {rmse:.2f}\")\n",
    "mae, rmse = evaluate_model(syn_m, val2)\n",
    "print(f\"synthetic MAE: {mae:.2f}, RMSE: {rmse:.2f}\")"
   ]
  }
 ],
 "metadata": {
  "kernelspec": {
   "display_name": "Python 3 (ipykernel)",
   "language": "python",
   "name": "python3"
  },
  "language_info": {
   "codemirror_mode": {
    "name": "ipython",
    "version": 3
   },
   "file_extension": ".py",
   "mimetype": "text/x-python",
   "name": "python",
   "nbconvert_exporter": "python",
   "pygments_lexer": "ipython3",
   "version": "3.9.0"
  }
 },
 "nbformat": 4,
 "nbformat_minor": 5
}

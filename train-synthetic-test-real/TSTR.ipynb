{
 "cells": [
  {
   "cell_type": "markdown",
   "metadata": {
    "id": "uUvsR-mWBoNS"
   },
   "source": [
    "# Train-Synthetic-Test-Real\n",
    "\n",
    "In this tutorial, we show how to assess synthetic data quality with respect to its utility for a downstream Machine Learning (ML) task. The demonstrated approach is also known as the Train-Synthetic-Test-Real (TSTR) evaluation [[1](#refs)]. It is a strong test for the quality of generated synthetic data, as machine learning models require deeper hidden structures being faithfully represented in order to be effective on new unseen data. Thus, it can serve as a stronger test than relying merely on assessing higher-level statistics. \n",
    "\n",
    "See image below for the general setup of TSTR.\n",
    "\n",
    "<img src='./TSTR.png' width=\"600px\"/>\n",
    "\n",
    "Thus, we take actual (=real) data, and split it into a holdout and a training dataset. Next, we create a synthetic dataset only based on the training data. Then we train a Machine Learning (ML) model, and do so once using the synthetic data and once using the actual training data. And finally we evaluate the performance of each of those two models on top of the actual holdout data, that was kept aside all along. By comparing the performance of these two models, we can assess how much utility has been retained by the synthesization method with respect to a specific ML task.\n",
    "\n",
    "Note, that one needs to use a true holdout for the evaluation to properly measure out-of-sample performance, as this is the relevant metric for real-world use cases. If one uses the same training data that has been used for the synthesis, one would \"leak\" information from training into evaluation. This becomes particularly an issue for synthesizers that are prone to overfitting, and simply memorize the samples that it has been exposed to. If one, on the other hand, were to use synthetic data for the evaluation, one would not get meaningful results either, as the synthetic data might not be representative of the real data. E.g., consider the degenerate case of a synthesizer that only produces the same record over and over again. Any model trained on that data, would yield perfect results when evaluated on it again, whereas it will be of no use when applied to real data."
   ]
  },
  {
   "cell_type": "markdown",
   "metadata": {
    "id": "oZ7ERZK__8TB"
   },
   "source": [
    "## Synthesize Data via MOSTLY AI\n",
    "\n",
    "For this tutorial, we will be using a cleaned up version of the UCI Adult Income [[2](#refs)] dataset, that itself stems from the 1994 American Community Survey [[3](#refs)] by the US census bureau. The dataset consists of 48,842 records, 14 mixed-type features and has 1 target variable, that indicates whether a respondent had or had not reported a high level of annual income. This dataset is being selected, as it's one of the go-to datasets commonly used to showcase machine learning models in action.\n",
    "\n",
    "1. Download `census-training.csv` from [here](https://github.com/mostly-ai/mostly-tutorials/raw/dev/train-synthetic-test-real/census-training.csv). This is an 80% sample of the full dataset. The remaining 20% sample can be fetched from [here](https://github.com/mostly-ai/mostly-tutorials/raw/dev/train-synthetic-test-real/census-holdout.csv).\n",
    "\n",
    "2. Synthesize `census-training.csv` via [MOSTLY AI](https://mostly.ai/). You can leave all settings at their default, and just proceed to launch job.\n",
    "\n",
    "<img src='./screen1.png' width=\"400px\"/> <img src='./screen2.png' width=\"400px\"/><br /><img src='./screen3.png' width=\"400px\"/> <img src='./screen4.png' width=\"400px\"/>\n",
    "\n",
    "3. Once the job has finished, download the generated synthetic data as CSV file to your computer.\n",
    "\n",
    "4. Upload the generated synthetic data to this Notebook via executing the next cell.\n"
   ]
  },
  {
   "cell_type": "code",
   "execution_count": 1,
   "metadata": {
    "colab": {
     "base_uri": "https://localhost:8080/",
     "height": 92
    },
    "id": "uTR_dshPG4vZ",
    "outputId": "4aab330a-29e2-48a0-8831-517d0bb7a55a"
   },
   "outputs": [
    {
     "name": "stdout",
     "output_type": "stream",
     "text": [
      "running in LOCAL mode\n",
      "adapt `syn_file_path` to point to your generated synthetic data file\n",
      "read synthetic data with 39,074 records and 15 attributes\n"
     ]
    }
   ],
   "source": [
    "# upload synthetic dataset\n",
    "import pandas as pd\n",
    "try:\n",
    "    # check whether we are in Google colab\n",
    "    from google.colab import files\n",
    "    print(\"running in COLAB mode\")\n",
    "    repo = 'https://github.com/mostly-ai/mostly-tutorials/raw/dev/train-synthetic-test-real'\n",
    "    import io\n",
    "    uploaded = files.upload()\n",
    "    syn = pd.read_csv(io.BytesIO(list(uploaded.values())[0]))\n",
    "    print(f\"uploaded synthetic data with {syn.shape[0]:,} records and {syn.shape[1]:,} attributes\")\n",
    "except:\n",
    "    print(\"running in LOCAL mode\")\n",
    "    repo = '.'\n",
    "    print(\"adapt `syn_file_path` to point to your generated synthetic data file\")\n",
    "    syn_file_path = './census-synthetic.csv'\n",
    "    syn = pd.read_csv(syn_file_path)\n",
    "    print(f\"read synthetic data with {syn.shape[0]:,} records and {syn.shape[1]:,} attributes\")"
   ]
  },
  {
   "cell_type": "code",
   "execution_count": 2,
   "metadata": {
    "colab": {
     "base_uri": "https://localhost:8080/"
    },
    "id": "mjXi6p1j-vZK",
    "outputId": "838dd765-9d17-4940-fc82-18819cdb0206"
   },
   "outputs": [
    {
     "name": "stdout",
     "output_type": "stream",
     "text": [
      "fetched training data with 39,074 records and 15 attributes\n",
      "fetched holdout data with 9,768 records and 15 attributes\n"
     ]
    }
   ],
   "source": [
    "# fetch training and holdout data\n",
    "train = pd.read_csv(f'{repo}/census-training.csv')\n",
    "print(f'fetched training data with {train.shape[0]:,} records and {train.shape[1]} attributes')\n",
    "holdout = pd.read_csv(f'{repo}/census-holdout.csv')\n",
    "print(f'fetched holdout data with {holdout.shape[0]:,} records and {holdout.shape[1]} attributes')"
   ]
  },
  {
   "cell_type": "code",
   "execution_count": 3,
   "metadata": {},
   "outputs": [
    {
     "data": {
      "text/html": [
       "<div>\n",
       "<style scoped>\n",
       "    .dataframe tbody tr th:only-of-type {\n",
       "        vertical-align: middle;\n",
       "    }\n",
       "\n",
       "    .dataframe tbody tr th {\n",
       "        vertical-align: top;\n",
       "    }\n",
       "\n",
       "    .dataframe thead th {\n",
       "        text-align: right;\n",
       "    }\n",
       "</style>\n",
       "<table border=\"1\" class=\"dataframe\">\n",
       "  <thead>\n",
       "    <tr style=\"text-align: right;\">\n",
       "      <th></th>\n",
       "      <th>age</th>\n",
       "      <th>workclass</th>\n",
       "      <th>fnlwgt</th>\n",
       "      <th>education</th>\n",
       "      <th>education_num</th>\n",
       "      <th>marital_status</th>\n",
       "      <th>occupation</th>\n",
       "      <th>relationship</th>\n",
       "      <th>race</th>\n",
       "      <th>sex</th>\n",
       "      <th>capital_gain</th>\n",
       "      <th>capital_loss</th>\n",
       "      <th>hours_per_week</th>\n",
       "      <th>native_country</th>\n",
       "      <th>income</th>\n",
       "    </tr>\n",
       "  </thead>\n",
       "  <tbody>\n",
       "    <tr>\n",
       "      <th>0</th>\n",
       "      <td>23</td>\n",
       "      <td>Private</td>\n",
       "      <td>203139</td>\n",
       "      <td>Some-college</td>\n",
       "      <td>10</td>\n",
       "      <td>Never-married</td>\n",
       "      <td>Other-service</td>\n",
       "      <td>Other-relative</td>\n",
       "      <td>White</td>\n",
       "      <td>Female</td>\n",
       "      <td>0</td>\n",
       "      <td>0</td>\n",
       "      <td>40</td>\n",
       "      <td>United-States</td>\n",
       "      <td>&lt;=50K</td>\n",
       "    </tr>\n",
       "    <tr>\n",
       "      <th>1</th>\n",
       "      <td>62</td>\n",
       "      <td>Private</td>\n",
       "      <td>196891</td>\n",
       "      <td>Bachelors</td>\n",
       "      <td>13</td>\n",
       "      <td>Married-civ-spouse</td>\n",
       "      <td>Exec-managerial</td>\n",
       "      <td>Husband</td>\n",
       "      <td>White</td>\n",
       "      <td>Male</td>\n",
       "      <td>0</td>\n",
       "      <td>0</td>\n",
       "      <td>40</td>\n",
       "      <td>United-States</td>\n",
       "      <td>&gt;50K</td>\n",
       "    </tr>\n",
       "    <tr>\n",
       "      <th>2</th>\n",
       "      <td>26</td>\n",
       "      <td>?</td>\n",
       "      <td>109564</td>\n",
       "      <td>HS-grad</td>\n",
       "      <td>9</td>\n",
       "      <td>Never-married</td>\n",
       "      <td>?</td>\n",
       "      <td>Own-child</td>\n",
       "      <td>White</td>\n",
       "      <td>Female</td>\n",
       "      <td>0</td>\n",
       "      <td>0</td>\n",
       "      <td>40</td>\n",
       "      <td>United-States</td>\n",
       "      <td>&lt;=50K</td>\n",
       "    </tr>\n",
       "    <tr>\n",
       "      <th>3</th>\n",
       "      <td>45</td>\n",
       "      <td>Private</td>\n",
       "      <td>348854</td>\n",
       "      <td>Some-college</td>\n",
       "      <td>10</td>\n",
       "      <td>Separated</td>\n",
       "      <td>Adm-clerical</td>\n",
       "      <td>Unmarried</td>\n",
       "      <td>White</td>\n",
       "      <td>Female</td>\n",
       "      <td>0</td>\n",
       "      <td>0</td>\n",
       "      <td>27</td>\n",
       "      <td>United-States</td>\n",
       "      <td>&lt;=50K</td>\n",
       "    </tr>\n",
       "    <tr>\n",
       "      <th>4</th>\n",
       "      <td>39</td>\n",
       "      <td>Private</td>\n",
       "      <td>89040</td>\n",
       "      <td>Assoc-voc</td>\n",
       "      <td>11</td>\n",
       "      <td>Married-civ-spouse</td>\n",
       "      <td>Other-service</td>\n",
       "      <td>Husband</td>\n",
       "      <td>White</td>\n",
       "      <td>Male</td>\n",
       "      <td>0</td>\n",
       "      <td>0</td>\n",
       "      <td>40</td>\n",
       "      <td>United-States</td>\n",
       "      <td>&lt;=50K</td>\n",
       "    </tr>\n",
       "  </tbody>\n",
       "</table>\n",
       "</div>"
      ],
      "text/plain": [
       "   age workclass  fnlwgt     education  education_num      marital_status  \\\n",
       "0   23   Private  203139  Some-college             10       Never-married   \n",
       "1   62   Private  196891     Bachelors             13  Married-civ-spouse   \n",
       "2   26         ?  109564       HS-grad              9       Never-married   \n",
       "3   45   Private  348854  Some-college             10           Separated   \n",
       "4   39   Private   89040     Assoc-voc             11  Married-civ-spouse   \n",
       "\n",
       "        occupation    relationship   race     sex  capital_gain  capital_loss  \\\n",
       "0    Other-service  Other-relative  White  Female             0             0   \n",
       "1  Exec-managerial         Husband  White    Male             0             0   \n",
       "2                ?       Own-child  White  Female             0             0   \n",
       "3     Adm-clerical       Unmarried  White  Female             0             0   \n",
       "4    Other-service         Husband  White    Male             0             0   \n",
       "\n",
       "   hours_per_week native_country income  \n",
       "0              40  United-States  <=50K  \n",
       "1              40  United-States   >50K  \n",
       "2              40  United-States  <=50K  \n",
       "3              27  United-States  <=50K  \n",
       "4              40  United-States  <=50K  "
      ]
     },
     "execution_count": 3,
     "metadata": {},
     "output_type": "execute_result"
    }
   ],
   "source": [
    "# show first few actual samples\n",
    "train.head()"
   ]
  },
  {
   "cell_type": "code",
   "execution_count": 4,
   "metadata": {},
   "outputs": [
    {
     "data": {
      "text/html": [
       "<div>\n",
       "<style scoped>\n",
       "    .dataframe tbody tr th:only-of-type {\n",
       "        vertical-align: middle;\n",
       "    }\n",
       "\n",
       "    .dataframe tbody tr th {\n",
       "        vertical-align: top;\n",
       "    }\n",
       "\n",
       "    .dataframe thead th {\n",
       "        text-align: right;\n",
       "    }\n",
       "</style>\n",
       "<table border=\"1\" class=\"dataframe\">\n",
       "  <thead>\n",
       "    <tr style=\"text-align: right;\">\n",
       "      <th></th>\n",
       "      <th>age</th>\n",
       "      <th>workclass</th>\n",
       "      <th>fnlwgt</th>\n",
       "      <th>education</th>\n",
       "      <th>education_num</th>\n",
       "      <th>marital_status</th>\n",
       "      <th>occupation</th>\n",
       "      <th>relationship</th>\n",
       "      <th>race</th>\n",
       "      <th>sex</th>\n",
       "      <th>capital_gain</th>\n",
       "      <th>capital_loss</th>\n",
       "      <th>hours_per_week</th>\n",
       "      <th>native_country</th>\n",
       "      <th>income</th>\n",
       "    </tr>\n",
       "  </thead>\n",
       "  <tbody>\n",
       "    <tr>\n",
       "      <th>0</th>\n",
       "      <td>26</td>\n",
       "      <td>Private</td>\n",
       "      <td>279630</td>\n",
       "      <td>7th-8th</td>\n",
       "      <td>4</td>\n",
       "      <td>Never-married</td>\n",
       "      <td>Craft-repair</td>\n",
       "      <td>Own-child</td>\n",
       "      <td>Other</td>\n",
       "      <td>Male</td>\n",
       "      <td>0</td>\n",
       "      <td>0</td>\n",
       "      <td>70</td>\n",
       "      <td>Dominican-Republic</td>\n",
       "      <td>&lt;=50K</td>\n",
       "    </tr>\n",
       "    <tr>\n",
       "      <th>1</th>\n",
       "      <td>38</td>\n",
       "      <td>Private</td>\n",
       "      <td>251329</td>\n",
       "      <td>11th</td>\n",
       "      <td>7</td>\n",
       "      <td>Divorced</td>\n",
       "      <td>Other-service</td>\n",
       "      <td>Unmarried</td>\n",
       "      <td>White</td>\n",
       "      <td>Female</td>\n",
       "      <td>0</td>\n",
       "      <td>0</td>\n",
       "      <td>40</td>\n",
       "      <td>United-States</td>\n",
       "      <td>&lt;=50K</td>\n",
       "    </tr>\n",
       "    <tr>\n",
       "      <th>2</th>\n",
       "      <td>24</td>\n",
       "      <td>Private</td>\n",
       "      <td>280871</td>\n",
       "      <td>HS-grad</td>\n",
       "      <td>9</td>\n",
       "      <td>Never-married</td>\n",
       "      <td>Other-service</td>\n",
       "      <td>Other-relative</td>\n",
       "      <td>White</td>\n",
       "      <td>Male</td>\n",
       "      <td>0</td>\n",
       "      <td>0</td>\n",
       "      <td>34</td>\n",
       "      <td>United-States</td>\n",
       "      <td>&lt;=50K</td>\n",
       "    </tr>\n",
       "    <tr>\n",
       "      <th>3</th>\n",
       "      <td>32</td>\n",
       "      <td>Private</td>\n",
       "      <td>257960</td>\n",
       "      <td>HS-grad</td>\n",
       "      <td>9</td>\n",
       "      <td>Never-married</td>\n",
       "      <td>Machine-op-inspct</td>\n",
       "      <td>Own-child</td>\n",
       "      <td>White</td>\n",
       "      <td>Male</td>\n",
       "      <td>0</td>\n",
       "      <td>0</td>\n",
       "      <td>40</td>\n",
       "      <td>United-States</td>\n",
       "      <td>&lt;=50K</td>\n",
       "    </tr>\n",
       "    <tr>\n",
       "      <th>4</th>\n",
       "      <td>32</td>\n",
       "      <td>Self-emp-not-inc</td>\n",
       "      <td>220133</td>\n",
       "      <td>Bachelors</td>\n",
       "      <td>13</td>\n",
       "      <td>Married-civ-spouse</td>\n",
       "      <td>Transport-moving</td>\n",
       "      <td>Husband</td>\n",
       "      <td>White</td>\n",
       "      <td>Male</td>\n",
       "      <td>0</td>\n",
       "      <td>0</td>\n",
       "      <td>35</td>\n",
       "      <td>United-States</td>\n",
       "      <td>&lt;=50K</td>\n",
       "    </tr>\n",
       "  </tbody>\n",
       "</table>\n",
       "</div>"
      ],
      "text/plain": [
       "   age         workclass  fnlwgt  education  education_num  \\\n",
       "0   26           Private  279630    7th-8th              4   \n",
       "1   38           Private  251329       11th              7   \n",
       "2   24           Private  280871    HS-grad              9   \n",
       "3   32           Private  257960    HS-grad              9   \n",
       "4   32  Self-emp-not-inc  220133  Bachelors             13   \n",
       "\n",
       "       marital_status         occupation    relationship   race     sex  \\\n",
       "0       Never-married       Craft-repair       Own-child  Other    Male   \n",
       "1            Divorced      Other-service       Unmarried  White  Female   \n",
       "2       Never-married      Other-service  Other-relative  White    Male   \n",
       "3       Never-married  Machine-op-inspct       Own-child  White    Male   \n",
       "4  Married-civ-spouse   Transport-moving         Husband  White    Male   \n",
       "\n",
       "   capital_gain  capital_loss  hours_per_week      native_country income  \n",
       "0             0             0              70  Dominican-Republic  <=50K  \n",
       "1             0             0              40       United-States  <=50K  \n",
       "2             0             0              34       United-States  <=50K  \n",
       "3             0             0              40       United-States  <=50K  \n",
       "4             0             0              35       United-States  <=50K  "
      ]
     },
     "execution_count": 4,
     "metadata": {},
     "output_type": "execute_result"
    }
   ],
   "source": [
    "# show first few synthetic samples\n",
    "syn.head()"
   ]
  },
  {
   "cell_type": "markdown",
   "metadata": {},
   "source": [
    "As you can see, the synthetic data is structurally identical to the actual data, but differs in content."
   ]
  },
  {
   "cell_type": "markdown",
   "metadata": {
    "id": "OgvJ0XoWTHoX"
   },
   "source": [
    "## Compare ML Performance\n",
    "\n",
    "We use a state-of-the-art **LightGBM** classifier as our downstream ML model, and train it for the task of predicting the `income` column, based on all other 14 features. Thus, given the `age`, `education`, `marital-status`, etc. information on a subject, we intend to predict whether that person reported an annual income of more than $50K or not."
   ]
  },
  {
   "cell_type": "code",
   "execution_count": 5,
   "metadata": {
    "id": "Rl6-YXB_e0Ac"
   },
   "outputs": [],
   "source": [
    "# define ML model training pipeline, including data preparation, model training, and model evaluation\n",
    "\n",
    "import lightgbm as lgb\n",
    "from lightgbm import early_stopping\n",
    "from sklearn.model_selection import train_test_split\n",
    "from sklearn.metrics import roc_auc_score, accuracy_score\n",
    "import seaborn as sns\n",
    "import matplotlib.pyplot as plt\n",
    "plt.rcParams['figure.dpi'] = 72\n",
    "\n",
    "target_col = 'income'\n",
    "target_val = '>50K'\n",
    "\n",
    "# prepare data, and split into features `X` and target `y`\n",
    "def prepare_xy(df):\n",
    "    y = (df[target_col]==target_val).astype(int)\n",
    "    str_cols = [col for col in df.select_dtypes(['object', 'string']).columns if col != target_col]\n",
    "    for col in str_cols:\n",
    "        df[col] = pd.Categorical(df[col])\n",
    "    cat_cols = [col for col in df.select_dtypes('category').columns if col != target_col]\n",
    "    num_cols = [col for col in df.select_dtypes('number').columns if col != target_col]\n",
    "    for col in num_cols:\n",
    "        df[col] = df[col].astype('float')\n",
    "    X = df[cat_cols + num_cols]\n",
    "    return X, y\n",
    "\n",
    "# train ML model with early stopping\n",
    "def train_model(X, y):\n",
    "    cat_cols = list(X.select_dtypes('category').columns)\n",
    "    X_trn, X_val, y_trn, y_val = train_test_split(X, y, test_size=0.2, random_state=1)\n",
    "    ds_trn = lgb.Dataset(X_trn, label=y_trn, categorical_feature=cat_cols, free_raw_data=False)\n",
    "    ds_val = lgb.Dataset(X_val, label=y_val, categorical_feature=cat_cols, free_raw_data=False)\n",
    "    print(f\"X_trn: {X_trn.shape[0]:,} rows, {X_trn.shape[1]:,} columns, target: {y_trn.mean():.2%}\")\n",
    "    print(f\"X_val: {X_val.shape[0]:,} rows, {X_val.shape[1]:,} columns, target: {y_val.mean():.2%}\")\n",
    "    model = lgb.train(\n",
    "        num_boost_round=20,\n",
    "        params={\n",
    "            'verbose': -1,\n",
    "            'metric': 'auc',  \n",
    "            'objective': 'binary'\n",
    "        }, \n",
    "        train_set=ds_trn,\n",
    "        valid_sets=[ds_val],\n",
    "        callbacks=[early_stopping(5)],\n",
    "    )\n",
    "    return model\n",
    "\n",
    "# apply ML Model to some holdout data, report key metrics, and visualize scores\n",
    "def evaluate_model(model, hol):\n",
    "    X_hol, y_hol = prepare_xy(hol)\n",
    "    probs = model.predict(X_hol)\n",
    "    preds = (probs >= 0.5).astype(int)\n",
    "    auc = roc_auc_score(y_hol, probs)\n",
    "    acc = accuracy_score(y_hol, preds)\n",
    "    print(\"\")\n",
    "    print(f\"Holdout Accuracy: {acc:.1%}\")\n",
    "    print(f\"Holdout AUC:      {auc:.3f}\")\n",
    "    print(\"\")\n",
    "    print(\"Confusion Matrix\")\n",
    "    print(pd.crosstab(pd.Series(preds, name='predicted'), y_hol))\n",
    "    print(\"\")\n",
    "    probs_df = pd.concat([\n",
    "        pd.Series(probs, name='probability').reset_index(drop=True),\n",
    "        pd.Series(y_hol, name='target').reset_index(drop=True)\n",
    "    ], axis=1)\n",
    "    fig = sns.displot(data=probs_df, x='probability', hue='target', bins=20, palette=['#008CFB', '#FF004F'])\n",
    "    fig = plt.title(f\"Holdout AUC: {auc:.3f}\", fontsize = 20)\n",
    "    plt.show()\n",
    "    return auc\n",
    "\n",
    "import warnings\n",
    "warnings.filterwarnings('ignore')"
   ]
  },
  {
   "cell_type": "markdown",
   "metadata": {
    "id": "TlKk4PLmB-0b"
   },
   "source": [
    "### Train ML Model on Real Data: `model_trn`\n"
   ]
  },
  {
   "cell_type": "code",
   "execution_count": 6,
   "metadata": {
    "colab": {
     "base_uri": "https://localhost:8080/"
    },
    "id": "ZtQiGZdyCB72",
    "outputId": "fb0fa7ad-c3f3-4d8a-d907-a7248e770e6d"
   },
   "outputs": [
    {
     "name": "stdout",
     "output_type": "stream",
     "text": [
      "X_trn: 31,259 rows, 14 columns, target: 23.79%\n",
      "X_val: 7,815 rows, 14 columns, target: 24.50%\n",
      "Training until validation scores don't improve for 5 rounds\n",
      "Did not meet early stopping. Best iteration is:\n",
      "[20]\tvalid_0's auc: 0.921486\n"
     ]
    }
   ],
   "source": [
    "X_trn, y_trn = prepare_xy(train)\n",
    "model_trn = train_model(X_trn, y_trn)"
   ]
  },
  {
   "cell_type": "markdown",
   "metadata": {
    "id": "WDK1Jr_xhBnl"
   },
   "source": [
    "### Train ML Model on Synthetic Data: `model_syn`"
   ]
  },
  {
   "cell_type": "code",
   "execution_count": 7,
   "metadata": {
    "colab": {
     "base_uri": "https://localhost:8080/"
    },
    "id": "14CMIhcvgQ77",
    "outputId": "f8f46533-b092-4ec7-8ecd-c2f5c51961ec"
   },
   "outputs": [
    {
     "name": "stdout",
     "output_type": "stream",
     "text": [
      "X_trn: 31,259 rows, 14 columns, target: 24.50%\n",
      "X_val: 7,815 rows, 14 columns, target: 24.71%\n",
      "Training until validation scores don't improve for 5 rounds\n",
      "Did not meet early stopping. Best iteration is:\n",
      "[20]\tvalid_0's auc: 0.904592\n"
     ]
    }
   ],
   "source": [
    "X_syn, y_syn = prepare_xy(syn)\n",
    "model_syn = train_model(X_syn, y_syn)"
   ]
  },
  {
   "cell_type": "markdown",
   "metadata": {
    "id": "4bwKgsJ3EmJB"
   },
   "source": [
    "### Evaluate `model_trn` on actual holdout"
   ]
  },
  {
   "cell_type": "code",
   "execution_count": 8,
   "metadata": {
    "colab": {
     "base_uri": "https://localhost:8080/",
     "height": 533
    },
    "id": "tneTdK4NEnz7",
    "outputId": "d3730edb-0aac-48f8-a1c9-46bc1c0f2f6a"
   },
   "outputs": [
    {
     "name": "stdout",
     "output_type": "stream",
     "text": [
      "\n",
      "Holdout Accuracy: 86.7%\n",
      "Holdout AUC:      0.921\n",
      "\n",
      "Confusion Matrix\n",
      "income        0     1\n",
      "predicted            \n",
      "0          7070   935\n",
      "1           361  1402\n",
      "\n"
     ]
    },
    {
     "data": {
      "image/png": "[encoded data removed]",
      "text/plain": [
       "<Figure size 402.375x360 with 1 Axes>"
      ]
     },
     "metadata": {},
     "output_type": "display_data"
    }
   ],
   "source": [
    "auc_trn = evaluate_model(model_trn, holdout)"
   ]
  },
  {
   "cell_type": "markdown",
   "metadata": {
    "id": "Fipgm179hYuS"
   },
   "source": [
    "### Evaluate `model_syn` on actual holdout"
   ]
  },
  {
   "cell_type": "code",
   "execution_count": 9,
   "metadata": {
    "colab": {
     "base_uri": "https://localhost:8080/",
     "height": 533
    },
    "id": "g5VaT4w-hMZ5",
    "outputId": "fd4a6cbb-8044-407d-c5e9-4a077ed16011"
   },
   "outputs": [
    {
     "name": "stdout",
     "output_type": "stream",
     "text": [
      "\n",
      "Holdout Accuracy: 86.1%\n",
      "Holdout AUC:      0.916\n",
      "\n",
      "Confusion Matrix\n",
      "income        0     1\n",
      "predicted            \n",
      "0          7027   949\n",
      "1           404  1388\n",
      "\n"
     ]
    },
    {
     "data": {
      "image/png": "[encoded data removed]",
      "text/plain": [
       "<Figure size 402.375x360 with 1 Axes>"
      ]
     },
     "metadata": {},
     "output_type": "display_data"
    }
   ],
   "source": [
    "auc_syn = evaluate_model(model_syn, holdout)"
   ]
  },
  {
   "cell_type": "code",
   "execution_count": 10,
   "metadata": {},
   "outputs": [
    {
     "name": "stdout",
     "output_type": "stream",
     "text": [
      "The closer the AUC for synthetic is to actual, the better the synthesis.\n",
      "Area-Under-Curve (AUC) for ML model trained on actual data is:    0.921\n",
      "Area-Under-Curve (AUC) for ML model trained on synthetic data is: 0.916\n"
     ]
    }
   ],
   "source": [
    "print(f\"The closer the AUC for synthetic is to actual, the better the synthesis.\")\n",
    "print(f\"Area-Under-Curve (AUC) for ML model trained on actual data is:    {auc_trn:.3f}\")\n",
    "print(f\"Area-Under-Curve (AUC) for ML model trained on synthetic data is: {auc_syn:.3f}\")"
   ]
  },
  {
   "cell_type": "markdown",
   "metadata": {
    "id": "UMGNussThvys"
   },
   "source": [
    "## Conclusion\n",
    "\n",
    "For the given dataset, and the given synthesizer, we can observe a near on-par performance of the synthetic data with respect to the given downstream ML task. This means, that one can train the model purely on synthetic data, and yield just as good results as if it were trained on real data, but without ever putting the privacy of any of the contained individuals at any risk.\n",
    "\n",
    "## Further exercises\n",
    "\n",
    "In addition to walking through the above instructions, we suggest..\n",
    "* to run Train-Synthetic-Test-Real \n",
    "  * using a different dataset, eg. the UCI bank-marketing dataset [[4](#refs)]\n",
    "  * using a different downstream ML model, eg. a RandomForest model [[5](#refs)]\n",
    "  * using a different synthesizer, eg. SynthCity, SDV, etc.\n",
    "* to check the impact of synthetic upsampling\n",
    "  * generate 10x or 100x the original data records, and see whether it improves ML accuracy"
   ]
  },
  {
   "cell_type": "markdown",
   "metadata": {},
   "source": [
    "## References<a class=\"anchor\" name=\"refs\"></a>\n",
    "\n",
    "1. https://arxiv.org/pdf/1706.02633.pdf §3.1.2\n",
    "1. https://archive.ics.uci.edu/ml/datasets/adult\n",
    "1. https://www.census.gov/programs-surveys/acs\n",
    "1. https://archive.ics.uci.edu/ml/datasets/bank+marketing\n",
    "1. https://scikit-learn.org/stable/modules/generated/sklearn.ensemble.RandomForestClassifier.html"
   ]
  },
  {
   "cell_type": "markdown",
   "metadata": {},
   "source": [
    "## Extras: Data Preparation\n",
    "\n",
    "The following code snippet can be used to split a DataFrame into a training and a holdout dataset"
   ]
  },
  {
   "cell_type": "code",
   "execution_count": 11,
   "metadata": {
    "tags": []
   },
   "outputs": [
    {
     "data": {
      "text/html": [
       "<div>\n",
       "<style scoped>\n",
       "    .dataframe tbody tr th:only-of-type {\n",
       "        vertical-align: middle;\n",
       "    }\n",
       "\n",
       "    .dataframe tbody tr th {\n",
       "        vertical-align: top;\n",
       "    }\n",
       "\n",
       "    .dataframe thead th {\n",
       "        text-align: right;\n",
       "    }\n",
       "</style>\n",
       "<table border=\"1\" class=\"dataframe\">\n",
       "  <thead>\n",
       "    <tr style=\"text-align: right;\">\n",
       "      <th></th>\n",
       "      <th>x</th>\n",
       "      <th>y</th>\n",
       "    </tr>\n",
       "  </thead>\n",
       "  <tbody>\n",
       "    <tr>\n",
       "      <th>6</th>\n",
       "      <td>6</td>\n",
       "      <td>16</td>\n",
       "    </tr>\n",
       "    <tr>\n",
       "      <th>4</th>\n",
       "      <td>4</td>\n",
       "      <td>14</td>\n",
       "    </tr>\n",
       "    <tr>\n",
       "      <th>0</th>\n",
       "      <td>0</td>\n",
       "      <td>10</td>\n",
       "    </tr>\n",
       "    <tr>\n",
       "      <th>3</th>\n",
       "      <td>3</td>\n",
       "      <td>13</td>\n",
       "    </tr>\n",
       "    <tr>\n",
       "      <th>1</th>\n",
       "      <td>1</td>\n",
       "      <td>11</td>\n",
       "    </tr>\n",
       "    <tr>\n",
       "      <th>7</th>\n",
       "      <td>7</td>\n",
       "      <td>17</td>\n",
       "    </tr>\n",
       "    <tr>\n",
       "      <th>8</th>\n",
       "      <td>8</td>\n",
       "      <td>18</td>\n",
       "    </tr>\n",
       "    <tr>\n",
       "      <th>5</th>\n",
       "      <td>5</td>\n",
       "      <td>15</td>\n",
       "    </tr>\n",
       "  </tbody>\n",
       "</table>\n",
       "</div>"
      ],
      "text/plain": [
       "   x   y\n",
       "6  6  16\n",
       "4  4  14\n",
       "0  0  10\n",
       "3  3  13\n",
       "1  1  11\n",
       "7  7  17\n",
       "8  8  18\n",
       "5  5  15"
      ]
     },
     "metadata": {},
     "output_type": "display_data"
    },
    {
     "data": {
      "text/html": [
       "<div>\n",
       "<style scoped>\n",
       "    .dataframe tbody tr th:only-of-type {\n",
       "        vertical-align: middle;\n",
       "    }\n",
       "\n",
       "    .dataframe tbody tr th {\n",
       "        vertical-align: top;\n",
       "    }\n",
       "\n",
       "    .dataframe thead th {\n",
       "        text-align: right;\n",
       "    }\n",
       "</style>\n",
       "<table border=\"1\" class=\"dataframe\">\n",
       "  <thead>\n",
       "    <tr style=\"text-align: right;\">\n",
       "      <th></th>\n",
       "      <th>x</th>\n",
       "      <th>y</th>\n",
       "    </tr>\n",
       "  </thead>\n",
       "  <tbody>\n",
       "    <tr>\n",
       "      <th>2</th>\n",
       "      <td>2</td>\n",
       "      <td>12</td>\n",
       "    </tr>\n",
       "    <tr>\n",
       "      <th>9</th>\n",
       "      <td>9</td>\n",
       "      <td>19</td>\n",
       "    </tr>\n",
       "  </tbody>\n",
       "</table>\n",
       "</div>"
      ],
      "text/plain": [
       "   x   y\n",
       "2  2  12\n",
       "9  9  19"
      ]
     },
     "metadata": {},
     "output_type": "display_data"
    }
   ],
   "source": [
    "from sklearn.model_selection import train_test_split\n",
    "\n",
    "df = pd.DataFrame({'x': range(10), 'y': range(10, 20)})\n",
    "df_trn, df_hol = train_test_split(df, test_size=0.2, random_state=1)\n",
    "display(df_trn)\n",
    "display(df_hol)"
   ]
  },
  {
   "cell_type": "code",
   "execution_count": null,
   "metadata": {},
   "outputs": [],
   "source": []
  }
 ],
 "metadata": {
  "colab": {
   "provenance": []
  },
  "kernelspec": {
   "display_name": "Python 3 (ipykernel)",
   "language": "python",
   "name": "python3"
  },
  "language_info": {
   "codemirror_mode": {
    "name": "ipython",
    "version": 3
   },
   "file_extension": ".py",
   "mimetype": "text/x-python",
   "name": "python",
   "nbconvert_exporter": "python",
   "pygments_lexer": "ipython3",
   "version": "3.10.0"
  }
 },
 "nbformat": 4,
 "nbformat_minor": 4
}

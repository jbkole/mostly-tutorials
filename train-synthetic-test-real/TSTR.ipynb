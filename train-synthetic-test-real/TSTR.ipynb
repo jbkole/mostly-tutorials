{
 "cells": [
  {
   "cell_type": "markdown",
   "metadata": {
    "id": "uUvsR-mWBoNS"
   },
   "source": [
    "# Train-Synthetic-Test-Real\n",
    "\n",
    "In this workbook, we show how to assess synthetic data quality with respect to its utility for a downstream Machine Learning (ML) task. The demonstrated approach is also known as the Train-Synthetic-Test-Real (TSTR) evaluation. See image below for the general setup.\n",
    "\n",
    "<center><img src='./TSTR.png' width=\"600px\"/></center>\n",
    "\n",
    "Thus, we take actual (=real) data, and split it into a holdout and a training dataset. Next, we create a synthetic dataset only based on the training data. Then we train a Machine Learning (ML) model, and do so once using the synthetic data and once using the actual training data. And finally we evaluate the performance of each of those two models on top of the actual holdout data, that was kept aside all along. By comparing the performance of these two models, we can assess how much utility has been retained by the synthesization method with respect to a specific ML task.\n",
    "\n",
    "Note, that one needs to use a true holdout for the evaluation to properly measure out-of-sample performance, as this is the relevant metric for real-world use cases. If one uses the same training data that has been used for the synthesis, one would \"leak\" information from training into evaluation. This becomes particularly an issue for synthesizers that are prone to overfitting, and simply memorize the samples that it has been exposed to. If one, on the other hand, were to use synthetic data for the evaluation, one would not get meaningful results either, as the synthetic data might not be representative of the real data. E.g., consider the degenerate case of a synthesizer that only produces the same record over and over again. Any model trained on that data, would yield perfect results when evaluated on it again, whereas it will be of no use when applied to real data."
   ]
  },
  {
   "cell_type": "markdown",
   "metadata": {
    "id": "oZ7ERZK__8TB"
   },
   "source": [
    "## Synthesize Data via MOSTLY AI\n",
    "\n",
    "For this tutorial, we will be using a cleaned up version of the [UCI Adult Income](https://archive.ics.uci.edu/ml/datasets/adult) dataset, that itself stems from the 1994 American Community Survey by the US census bureau. The dataset consists of 48,842 records, 14 mixed-type features and has 1 target variable, that indicates whether a respondent had or had not reported a high level of annual income. This dataset is being selected, as it's one of the go-to datasets commonly used to showcase machine learning models in action.\n",
    "\n",
    "1. Download `census-training.csv` from [here](./census-training.csv). This is an 80% sample of the full dataset. The remaining 20% sample can be fetched from [here](./census-holdout.csv).\n",
    "\n",
    "2. Synthesize `census-training.csv` via [MOSTLY AI](https://mostly.ai/) - you can leave all settings at their default.\n",
    "\n",
    "<center><img src='./screen1.png' width=\"400px\"/> <img src='./screen2.png' width=\"400px\"/> <img src='./screen3.png' width=\"400px\"/> <img src='./screen4.png' width=\"400px\"/></center>\n",
    "\n",
    "3. Upload the generated synthetic data to this Notebook via executing the next cell."
   ]
  },
  {
   "cell_type": "code",
   "execution_count": 1,
   "metadata": {
    "colab": {
     "base_uri": "https://localhost:8080/",
     "height": 92
    },
    "id": "uTR_dshPG4vZ",
    "outputId": "4aab330a-29e2-48a0-8831-517d0bb7a55a"
   },
   "outputs": [
    {
     "name": "stdout",
     "output_type": "stream",
     "text": [
      "use previously synthesized dataset with 39,074 records and 15 attributes\n"
     ]
    }
   ],
   "source": [
    "# upload synthetic dataset\n",
    "import pandas as pd\n",
    "try:\n",
    "    # check whether we are in Google colab\n",
    "    from google.colab import files\n",
    "    import io\n",
    "    uploaded = files.upload()\n",
    "    syn = pd.read_csv(io.BytesIO(list(uploaded.values())[0]))\n",
    "    print(f\"uploaded synthetic data with {syn.shape[0]:,} records and {syn.shape[1]:,} attributes\")\n",
    "except:\n",
    "    syn = pd.read_csv('./census-synthetic.csv')\n",
    "    print(f\"use previously synthesized dataset with {syn.shape[0]:,} records and {syn.shape[1]:,} attributes\")\n"
   ]
  },
  {
   "cell_type": "code",
   "execution_count": 2,
   "metadata": {
    "colab": {
     "base_uri": "https://localhost:8080/"
    },
    "id": "mjXi6p1j-vZK",
    "outputId": "838dd765-9d17-4940-fc82-18819cdb0206"
   },
   "outputs": [
    {
     "name": "stdout",
     "output_type": "stream",
     "text": [
      "fetched training data with 39,074 records and 15 attributes\n",
      "fetched holdout data with 9,768 records and 15 attributes\n"
     ]
    }
   ],
   "source": [
    "# fetch training and holdout data directly from S3 bucket\n",
    "import pandas as pd\n",
    "train = pd.read_csv('./census-training.csv')\n",
    "print(f'fetched training data with {train.shape[0]:,} records and {train.shape[1]} attributes')\n",
    "holdout = pd.read_csv('./census-holdout.csv')\n",
    "print(f'fetched holdout data with {holdout.shape[0]:,} records and {holdout.shape[1]} attributes')"
   ]
  },
  {
   "cell_type": "code",
   "execution_count": 3,
   "metadata": {},
   "outputs": [
    {
     "data": {
      "text/html": [
       "<div>\n",
       "<style scoped>\n",
       "    .dataframe tbody tr th:only-of-type {\n",
       "        vertical-align: middle;\n",
       "    }\n",
       "\n",
       "    .dataframe tbody tr th {\n",
       "        vertical-align: top;\n",
       "    }\n",
       "\n",
       "    .dataframe thead th {\n",
       "        text-align: right;\n",
       "    }\n",
       "</style>\n",
       "<table border=\"1\" class=\"dataframe\">\n",
       "  <thead>\n",
       "    <tr style=\"text-align: right;\">\n",
       "      <th></th>\n",
       "      <th>age</th>\n",
       "      <th>workclass</th>\n",
       "      <th>fnlwgt</th>\n",
       "      <th>education</th>\n",
       "      <th>education_num</th>\n",
       "      <th>marital_status</th>\n",
       "      <th>occupation</th>\n",
       "      <th>relationship</th>\n",
       "      <th>race</th>\n",
       "      <th>sex</th>\n",
       "      <th>capital_gain</th>\n",
       "      <th>capital_loss</th>\n",
       "      <th>hours_per_week</th>\n",
       "      <th>native_country</th>\n",
       "      <th>income</th>\n",
       "    </tr>\n",
       "  </thead>\n",
       "  <tbody>\n",
       "    <tr>\n",
       "      <th>0</th>\n",
       "      <td>23</td>\n",
       "      <td>Private</td>\n",
       "      <td>203139</td>\n",
       "      <td>Some-college</td>\n",
       "      <td>10</td>\n",
       "      <td>Never-married</td>\n",
       "      <td>Other-service</td>\n",
       "      <td>Other-relative</td>\n",
       "      <td>White</td>\n",
       "      <td>Female</td>\n",
       "      <td>0</td>\n",
       "      <td>0</td>\n",
       "      <td>40</td>\n",
       "      <td>United-States</td>\n",
       "      <td>&lt;=50K</td>\n",
       "    </tr>\n",
       "    <tr>\n",
       "      <th>1</th>\n",
       "      <td>62</td>\n",
       "      <td>Private</td>\n",
       "      <td>196891</td>\n",
       "      <td>Bachelors</td>\n",
       "      <td>13</td>\n",
       "      <td>Married-civ-spouse</td>\n",
       "      <td>Exec-managerial</td>\n",
       "      <td>Husband</td>\n",
       "      <td>White</td>\n",
       "      <td>Male</td>\n",
       "      <td>0</td>\n",
       "      <td>0</td>\n",
       "      <td>40</td>\n",
       "      <td>United-States</td>\n",
       "      <td>&gt;50K</td>\n",
       "    </tr>\n",
       "    <tr>\n",
       "      <th>2</th>\n",
       "      <td>26</td>\n",
       "      <td>?</td>\n",
       "      <td>109564</td>\n",
       "      <td>HS-grad</td>\n",
       "      <td>9</td>\n",
       "      <td>Never-married</td>\n",
       "      <td>?</td>\n",
       "      <td>Own-child</td>\n",
       "      <td>White</td>\n",
       "      <td>Female</td>\n",
       "      <td>0</td>\n",
       "      <td>0</td>\n",
       "      <td>40</td>\n",
       "      <td>United-States</td>\n",
       "      <td>&lt;=50K</td>\n",
       "    </tr>\n",
       "    <tr>\n",
       "      <th>3</th>\n",
       "      <td>45</td>\n",
       "      <td>Private</td>\n",
       "      <td>348854</td>\n",
       "      <td>Some-college</td>\n",
       "      <td>10</td>\n",
       "      <td>Separated</td>\n",
       "      <td>Adm-clerical</td>\n",
       "      <td>Unmarried</td>\n",
       "      <td>White</td>\n",
       "      <td>Female</td>\n",
       "      <td>0</td>\n",
       "      <td>0</td>\n",
       "      <td>27</td>\n",
       "      <td>United-States</td>\n",
       "      <td>&lt;=50K</td>\n",
       "    </tr>\n",
       "    <tr>\n",
       "      <th>4</th>\n",
       "      <td>39</td>\n",
       "      <td>Private</td>\n",
       "      <td>89040</td>\n",
       "      <td>Assoc-voc</td>\n",
       "      <td>11</td>\n",
       "      <td>Married-civ-spouse</td>\n",
       "      <td>Other-service</td>\n",
       "      <td>Husband</td>\n",
       "      <td>White</td>\n",
       "      <td>Male</td>\n",
       "      <td>0</td>\n",
       "      <td>0</td>\n",
       "      <td>40</td>\n",
       "      <td>United-States</td>\n",
       "      <td>&lt;=50K</td>\n",
       "    </tr>\n",
       "  </tbody>\n",
       "</table>\n",
       "</div>"
      ],
      "text/plain": [
       "   age workclass  fnlwgt     education  education_num      marital_status  \\\n",
       "0   23   Private  203139  Some-college             10       Never-married   \n",
       "1   62   Private  196891     Bachelors             13  Married-civ-spouse   \n",
       "2   26         ?  109564       HS-grad              9       Never-married   \n",
       "3   45   Private  348854  Some-college             10           Separated   \n",
       "4   39   Private   89040     Assoc-voc             11  Married-civ-spouse   \n",
       "\n",
       "        occupation    relationship   race     sex  capital_gain  capital_loss  \\\n",
       "0    Other-service  Other-relative  White  Female             0             0   \n",
       "1  Exec-managerial         Husband  White    Male             0             0   \n",
       "2                ?       Own-child  White  Female             0             0   \n",
       "3     Adm-clerical       Unmarried  White  Female             0             0   \n",
       "4    Other-service         Husband  White    Male             0             0   \n",
       "\n",
       "   hours_per_week native_country income  \n",
       "0              40  United-States  <=50K  \n",
       "1              40  United-States   >50K  \n",
       "2              40  United-States  <=50K  \n",
       "3              27  United-States  <=50K  \n",
       "4              40  United-States  <=50K  "
      ]
     },
     "execution_count": 3,
     "metadata": {},
     "output_type": "execute_result"
    }
   ],
   "source": [
    "# show first few actual samples\n",
    "train.head()"
   ]
  },
  {
   "cell_type": "code",
   "execution_count": 5,
   "metadata": {},
   "outputs": [
    {
     "data": {
      "text/html": [
       "<div>\n",
       "<style scoped>\n",
       "    .dataframe tbody tr th:only-of-type {\n",
       "        vertical-align: middle;\n",
       "    }\n",
       "\n",
       "    .dataframe tbody tr th {\n",
       "        vertical-align: top;\n",
       "    }\n",
       "\n",
       "    .dataframe thead th {\n",
       "        text-align: right;\n",
       "    }\n",
       "</style>\n",
       "<table border=\"1\" class=\"dataframe\">\n",
       "  <thead>\n",
       "    <tr style=\"text-align: right;\">\n",
       "      <th></th>\n",
       "      <th>age</th>\n",
       "      <th>workclass</th>\n",
       "      <th>fnlwgt</th>\n",
       "      <th>education</th>\n",
       "      <th>education_num</th>\n",
       "      <th>marital_status</th>\n",
       "      <th>occupation</th>\n",
       "      <th>relationship</th>\n",
       "      <th>race</th>\n",
       "      <th>sex</th>\n",
       "      <th>capital_gain</th>\n",
       "      <th>capital_loss</th>\n",
       "      <th>hours_per_week</th>\n",
       "      <th>native_country</th>\n",
       "      <th>income</th>\n",
       "    </tr>\n",
       "  </thead>\n",
       "  <tbody>\n",
       "    <tr>\n",
       "      <th>0</th>\n",
       "      <td>45</td>\n",
       "      <td>Local-gov</td>\n",
       "      <td>273395</td>\n",
       "      <td>10th</td>\n",
       "      <td>6</td>\n",
       "      <td>Married-civ-spouse</td>\n",
       "      <td>Other-service</td>\n",
       "      <td>Husband</td>\n",
       "      <td>White</td>\n",
       "      <td>Male</td>\n",
       "      <td>0</td>\n",
       "      <td>0</td>\n",
       "      <td>40</td>\n",
       "      <td>Mexico</td>\n",
       "      <td>&lt;=50K</td>\n",
       "    </tr>\n",
       "    <tr>\n",
       "      <th>1</th>\n",
       "      <td>53</td>\n",
       "      <td>Private</td>\n",
       "      <td>294385</td>\n",
       "      <td>Bachelors</td>\n",
       "      <td>13</td>\n",
       "      <td>Never-married</td>\n",
       "      <td>Other-service</td>\n",
       "      <td>Unmarried</td>\n",
       "      <td>White</td>\n",
       "      <td>Female</td>\n",
       "      <td>0</td>\n",
       "      <td>0</td>\n",
       "      <td>20</td>\n",
       "      <td>United-States</td>\n",
       "      <td>&lt;=50K</td>\n",
       "    </tr>\n",
       "    <tr>\n",
       "      <th>2</th>\n",
       "      <td>46</td>\n",
       "      <td>State-gov</td>\n",
       "      <td>171733</td>\n",
       "      <td>HS-grad</td>\n",
       "      <td>9</td>\n",
       "      <td>Married-civ-spouse</td>\n",
       "      <td>Adm-clerical</td>\n",
       "      <td>Wife</td>\n",
       "      <td>White</td>\n",
       "      <td>Female</td>\n",
       "      <td>0</td>\n",
       "      <td>0</td>\n",
       "      <td>40</td>\n",
       "      <td>United-States</td>\n",
       "      <td>&gt;50K</td>\n",
       "    </tr>\n",
       "    <tr>\n",
       "      <th>3</th>\n",
       "      <td>27</td>\n",
       "      <td>Private</td>\n",
       "      <td>181142</td>\n",
       "      <td>Masters</td>\n",
       "      <td>14</td>\n",
       "      <td>Never-married</td>\n",
       "      <td>Exec-managerial</td>\n",
       "      <td>Not-in-family</td>\n",
       "      <td>White</td>\n",
       "      <td>Female</td>\n",
       "      <td>0</td>\n",
       "      <td>0</td>\n",
       "      <td>38</td>\n",
       "      <td>United-States</td>\n",
       "      <td>&lt;=50K</td>\n",
       "    </tr>\n",
       "    <tr>\n",
       "      <th>4</th>\n",
       "      <td>60</td>\n",
       "      <td>Private</td>\n",
       "      <td>117264</td>\n",
       "      <td>HS-grad</td>\n",
       "      <td>9</td>\n",
       "      <td>Widowed</td>\n",
       "      <td>Other-service</td>\n",
       "      <td>Not-in-family</td>\n",
       "      <td>White</td>\n",
       "      <td>Female</td>\n",
       "      <td>0</td>\n",
       "      <td>0</td>\n",
       "      <td>43</td>\n",
       "      <td>United-States</td>\n",
       "      <td>&lt;=50K</td>\n",
       "    </tr>\n",
       "  </tbody>\n",
       "</table>\n",
       "</div>"
      ],
      "text/plain": [
       "   age  workclass  fnlwgt  education  education_num      marital_status  \\\n",
       "0   45  Local-gov  273395       10th              6  Married-civ-spouse   \n",
       "1   53    Private  294385  Bachelors             13       Never-married   \n",
       "2   46  State-gov  171733    HS-grad              9  Married-civ-spouse   \n",
       "3   27    Private  181142    Masters             14       Never-married   \n",
       "4   60    Private  117264    HS-grad              9             Widowed   \n",
       "\n",
       "        occupation   relationship   race     sex  capital_gain  capital_loss  \\\n",
       "0    Other-service        Husband  White    Male             0             0   \n",
       "1    Other-service      Unmarried  White  Female             0             0   \n",
       "2     Adm-clerical           Wife  White  Female             0             0   \n",
       "3  Exec-managerial  Not-in-family  White  Female             0             0   \n",
       "4    Other-service  Not-in-family  White  Female             0             0   \n",
       "\n",
       "   hours_per_week native_country income  \n",
       "0              40         Mexico  <=50K  \n",
       "1              20  United-States  <=50K  \n",
       "2              40  United-States   >50K  \n",
       "3              38  United-States  <=50K  \n",
       "4              43  United-States  <=50K  "
      ]
     },
     "execution_count": 5,
     "metadata": {},
     "output_type": "execute_result"
    }
   ],
   "source": [
    "# show first few synthetic samples; these are structurally identical to the actual data, but differ in content\n",
    "syn.head()"
   ]
  },
  {
   "cell_type": "markdown",
   "metadata": {
    "id": "OgvJ0XoWTHoX"
   },
   "source": [
    "## Compare ML Performance\n",
    "\n",
    "We use a state-of-the-art LightGBM classifier as our downstream ML model, and train it for the task of predicting the `income` column, based on all other 14 features. Thus, given the `age`, `education`, `marital-status`, etc. information on a subject, we intend to predict whether that person reported an annual income of more than $50K or not."
   ]
  },
  {
   "cell_type": "code",
   "execution_count": 6,
   "metadata": {
    "id": "Rl6-YXB_e0Ac"
   },
   "outputs": [
    {
     "data": {
      "text/html": [
       "<style type='text/css'>\n",
       ".datatable table.frame { margin-bottom: 0; }\n",
       ".datatable table.frame thead { border-bottom: none; }\n",
       ".datatable table.frame tr.coltypes td {  color: #FFFFFF;  line-height: 6px;  padding: 0 0.5em;}\n",
       ".datatable .bool    { background: #DDDD99; }\n",
       ".datatable .object  { background: #565656; }\n",
       ".datatable .int     { background: #5D9E5D; }\n",
       ".datatable .float   { background: #4040CC; }\n",
       ".datatable .str     { background: #CC4040; }\n",
       ".datatable .row_index {  background: var(--jp-border-color3);  border-right: 1px solid var(--jp-border-color0);  color: var(--jp-ui-font-color3);  font-size: 9px;}\n",
       ".datatable .frame tr.coltypes .row_index {  background: var(--jp-border-color0);}\n",
       ".datatable th:nth-child(2) { padding-left: 12px; }\n",
       ".datatable .hellipsis {  color: var(--jp-cell-editor-border-color);}\n",
       ".datatable .vellipsis {  background: var(--jp-layout-color0);  color: var(--jp-cell-editor-border-color);}\n",
       ".datatable .na {  color: var(--jp-cell-editor-border-color);  font-size: 80%;}\n",
       ".datatable .footer { font-size: 9px; }\n",
       ".datatable .frame_dimensions {  background: var(--jp-border-color3);  border-top: 1px solid var(--jp-border-color0);  color: var(--jp-ui-font-color3);  display: inline-block;  opacity: 0.6;  padding: 1px 10px 1px 5px;}\n",
       "</style>\n"
      ],
      "text/plain": [
       "<IPython.core.display.HTML object>"
      ]
     },
     "metadata": {},
     "output_type": "display_data"
    }
   ],
   "source": [
    "# define ML model training pipeline, including data preparation, model training, and model evaluation\n",
    "\n",
    "import lightgbm as lgb\n",
    "import seaborn as sns\n",
    "import matplotlib.pyplot as plt\n",
    "from lightgbm import early_stopping\n",
    "from sklearn.model_selection import train_test_split\n",
    "from sklearn.metrics import roc_auc_score, accuracy_score\n",
    "\n",
    "# prepare data, and split into features `X` and target `y`\n",
    "def prepare_xy(df: pd.DataFrame):\n",
    "    tgt_col = 'income'\n",
    "    y = (df[tgt_col]=='>50K').astype(int)\n",
    "    str_cols = [col for col in df.select_dtypes(['object', 'string']).columns if col != tgt_col]\n",
    "    for col in str_cols:\n",
    "        df[col] = pd.Categorical(df[col])\n",
    "    cat_cols = [col for col in df.select_dtypes('category').columns if col != tgt_col]\n",
    "    num_cols = [col for col in df.select_dtypes('number').columns if col != tgt_col]\n",
    "    for col in num_cols:\n",
    "        df[col] = df[col].astype('float')\n",
    "    X = df[cat_cols + num_cols]\n",
    "    return X, y\n",
    "\n",
    "# train ML model with early stopping\n",
    "def train_model(X, y):\n",
    "    cat_cols = list(X.select_dtypes('category').columns)\n",
    "    X_trn, X_val, y_trn, y_val = train_test_split(X, y, test_size=0.2, random_state=1)\n",
    "    ds_trn = lgb.Dataset(X_trn, label=y_trn, categorical_feature=cat_cols, free_raw_data=False)\n",
    "    ds_val = lgb.Dataset(X_val, label=y_val, categorical_feature=cat_cols, free_raw_data=False)\n",
    "    print(f\"X_trn: {X_trn.shape[0]:,} rows, {X_trn.shape[1]:,} columns, target: {y_trn.mean():.2%}\")\n",
    "    print(f\"X_val: {X_val.shape[0]:,} rows, {X_val.shape[1]:,} columns, target: {y_val.mean():.2%}\")\n",
    "    model = lgb.train(\n",
    "        num_boost_round=200, \n",
    "        params={\n",
    "            'verbose': -1,\n",
    "            'metric': 'auc',  \n",
    "            'objective': 'binary'\n",
    "        }, \n",
    "        train_set=ds_trn,\n",
    "        valid_sets=[ds_val],\n",
    "        callbacks=[early_stopping(5)],\n",
    "    )\n",
    "    return model\n",
    "\n",
    "# apply ML Model to some holdout data, report key metrics, and visualize scores\n",
    "def evaluate_model(model, hol):\n",
    "    X_hol, y_hol = prepare_xy(hol)\n",
    "    probs = model.predict(X_hol)\n",
    "    preds = (probs >= 0.5).astype(int)\n",
    "    auc = roc_auc_score(y_hol, probs)\n",
    "    acc = accuracy_score(y_hol, preds)\n",
    "    print(\"\")\n",
    "    print(f\"Holdout Accuracy {acc:.1%}\")\n",
    "    print(\"Confusion Matrix\")\n",
    "    print(pd.crosstab(pd.Series(preds, name='predicted'), y_hol))\n",
    "    print(\"\")\n",
    "    probs_df = pd.concat([\n",
    "        pd.Series(probs, name='probability').reset_index(drop=True),\n",
    "        pd.Series(y_hol, name='target').reset_index(drop=True)\n",
    "    ], axis=1)\n",
    "    fig = sns.displot(data=probs_df, x='probability', hue='target', bins=20, palette=['#008CFB', '#FF004F'])\n",
    "    fig = plt.title(f\"Holdout AUC: {auc:.3f}\", fontsize = 20)\n",
    "    return auc\n",
    "\n",
    "import warnings\n",
    "warnings.filterwarnings('ignore')"
   ]
  },
  {
   "cell_type": "markdown",
   "metadata": {
    "id": "TlKk4PLmB-0b"
   },
   "source": [
    "### Train ML Model on Real Data: `model_trn`\n"
   ]
  },
  {
   "cell_type": "code",
   "execution_count": 7,
   "metadata": {
    "colab": {
     "base_uri": "https://localhost:8080/"
    },
    "id": "ZtQiGZdyCB72",
    "outputId": "fb0fa7ad-c3f3-4d8a-d907-a7248e770e6d"
   },
   "outputs": [
    {
     "name": "stdout",
     "output_type": "stream",
     "text": [
      "X_trn: 31,259 rows, 14 columns, target: 23.79%\n",
      "X_val: 7,815 rows, 14 columns, target: 24.50%\n",
      "[1]\tvalid_0's auc: 0.902203\n",
      "Training until validation scores don't improve for 5 rounds\n",
      "[2]\tvalid_0's auc: 0.904009\n",
      "[3]\tvalid_0's auc: 0.908601\n",
      "[4]\tvalid_0's auc: 0.910945\n",
      "[5]\tvalid_0's auc: 0.912972\n",
      "[6]\tvalid_0's auc: 0.913933\n",
      "[7]\tvalid_0's auc: 0.914579\n",
      "[8]\tvalid_0's auc: 0.91549\n",
      "[9]\tvalid_0's auc: 0.916333\n",
      "[10]\tvalid_0's auc: 0.916771\n",
      "[11]\tvalid_0's auc: 0.917758\n",
      "[12]\tvalid_0's auc: 0.918359\n",
      "[13]\tvalid_0's auc: 0.918682\n",
      "[14]\tvalid_0's auc: 0.91908\n",
      "[15]\tvalid_0's auc: 0.919953\n",
      "[16]\tvalid_0's auc: 0.920843\n",
      "[17]\tvalid_0's auc: 0.921432\n",
      "[18]\tvalid_0's auc: 0.921645\n",
      "[19]\tvalid_0's auc: 0.921855\n",
      "[20]\tvalid_0's auc: 0.921949\n",
      "[21]\tvalid_0's auc: 0.922024\n",
      "[22]\tvalid_0's auc: 0.922287\n",
      "[23]\tvalid_0's auc: 0.9227\n",
      "[24]\tvalid_0's auc: 0.923022\n",
      "[25]\tvalid_0's auc: 0.923565\n",
      "[26]\tvalid_0's auc: 0.923768\n",
      "[27]\tvalid_0's auc: 0.923952\n",
      "[28]\tvalid_0's auc: 0.924059\n",
      "[29]\tvalid_0's auc: 0.924087\n",
      "[30]\tvalid_0's auc: 0.924222\n",
      "[31]\tvalid_0's auc: 0.924282\n",
      "[32]\tvalid_0's auc: 0.924842\n",
      "[33]\tvalid_0's auc: 0.925131\n",
      "[34]\tvalid_0's auc: 0.925212\n",
      "[35]\tvalid_0's auc: 0.925665\n",
      "[36]\tvalid_0's auc: 0.926158\n",
      "[37]\tvalid_0's auc: 0.926581\n",
      "[38]\tvalid_0's auc: 0.92714\n",
      "[39]\tvalid_0's auc: 0.927213\n",
      "[40]\tvalid_0's auc: 0.927548\n",
      "[41]\tvalid_0's auc: 0.927719\n",
      "[42]\tvalid_0's auc: 0.927923\n",
      "[43]\tvalid_0's auc: 0.928039\n",
      "[44]\tvalid_0's auc: 0.928078\n",
      "[45]\tvalid_0's auc: 0.928053\n",
      "[46]\tvalid_0's auc: 0.928167\n",
      "[47]\tvalid_0's auc: 0.928407\n",
      "[48]\tvalid_0's auc: 0.92861\n",
      "[49]\tvalid_0's auc: 0.928891\n",
      "[50]\tvalid_0's auc: 0.92887\n",
      "[51]\tvalid_0's auc: 0.928911\n",
      "[52]\tvalid_0's auc: 0.929192\n",
      "[53]\tvalid_0's auc: 0.929135\n",
      "[54]\tvalid_0's auc: 0.929294\n",
      "[55]\tvalid_0's auc: 0.929349\n",
      "[56]\tvalid_0's auc: 0.929417\n",
      "[57]\tvalid_0's auc: 0.929401\n",
      "[58]\tvalid_0's auc: 0.92936\n",
      "[59]\tvalid_0's auc: 0.929487\n",
      "[60]\tvalid_0's auc: 0.929548\n",
      "[61]\tvalid_0's auc: 0.929611\n",
      "[62]\tvalid_0's auc: 0.929635\n",
      "[63]\tvalid_0's auc: 0.929749\n",
      "[64]\tvalid_0's auc: 0.929747\n",
      "[65]\tvalid_0's auc: 0.929813\n",
      "[66]\tvalid_0's auc: 0.929805\n",
      "[67]\tvalid_0's auc: 0.929857\n",
      "[68]\tvalid_0's auc: 0.929862\n",
      "[69]\tvalid_0's auc: 0.929963\n",
      "[70]\tvalid_0's auc: 0.929905\n",
      "[71]\tvalid_0's auc: 0.930008\n",
      "[72]\tvalid_0's auc: 0.930099\n",
      "[73]\tvalid_0's auc: 0.930055\n",
      "[74]\tvalid_0's auc: 0.930058\n",
      "[75]\tvalid_0's auc: 0.930128\n",
      "[76]\tvalid_0's auc: 0.930101\n",
      "[77]\tvalid_0's auc: 0.930185\n",
      "[78]\tvalid_0's auc: 0.930257\n",
      "[79]\tvalid_0's auc: 0.930262\n",
      "[80]\tvalid_0's auc: 0.930301\n",
      "[81]\tvalid_0's auc: 0.930257\n",
      "[82]\tvalid_0's auc: 0.930289\n",
      "[83]\tvalid_0's auc: 0.930289\n",
      "[84]\tvalid_0's auc: 0.930279\n",
      "[85]\tvalid_0's auc: 0.930243\n",
      "Early stopping, best iteration is:\n",
      "[80]\tvalid_0's auc: 0.930301\n"
     ]
    }
   ],
   "source": [
    "X_trn, y_trn = prepare_xy(train)\n",
    "model_trn = train_model(X_trn, y_trn)"
   ]
  },
  {
   "cell_type": "markdown",
   "metadata": {
    "id": "WDK1Jr_xhBnl"
   },
   "source": [
    "### Train ML Model on Synthetic Data: `model_syn`"
   ]
  },
  {
   "cell_type": "code",
   "execution_count": 8,
   "metadata": {
    "colab": {
     "base_uri": "https://localhost:8080/"
    },
    "id": "14CMIhcvgQ77",
    "outputId": "f8f46533-b092-4ec7-8ecd-c2f5c51961ec"
   },
   "outputs": [
    {
     "name": "stdout",
     "output_type": "stream",
     "text": [
      "X_trn: 31,259 rows, 14 columns, target: 23.63%\n",
      "X_val: 7,815 rows, 14 columns, target: 24.54%\n",
      "[1]\tvalid_0's auc: 0.897164\n",
      "Training until validation scores don't improve for 5 rounds\n",
      "[2]\tvalid_0's auc: 0.901002\n",
      "[3]\tvalid_0's auc: 0.904001\n",
      "[4]\tvalid_0's auc: 0.904112\n",
      "[5]\tvalid_0's auc: 0.905464\n",
      "[6]\tvalid_0's auc: 0.906228\n",
      "[7]\tvalid_0's auc: 0.907319\n",
      "[8]\tvalid_0's auc: 0.907322\n",
      "[9]\tvalid_0's auc: 0.908164\n",
      "[10]\tvalid_0's auc: 0.908476\n",
      "[11]\tvalid_0's auc: 0.908743\n",
      "[12]\tvalid_0's auc: 0.909753\n",
      "[13]\tvalid_0's auc: 0.909637\n",
      "[14]\tvalid_0's auc: 0.910136\n",
      "[15]\tvalid_0's auc: 0.910496\n",
      "[16]\tvalid_0's auc: 0.91097\n",
      "[17]\tvalid_0's auc: 0.911513\n",
      "[18]\tvalid_0's auc: 0.911684\n",
      "[19]\tvalid_0's auc: 0.912069\n",
      "[20]\tvalid_0's auc: 0.912254\n",
      "[21]\tvalid_0's auc: 0.912622\n",
      "[22]\tvalid_0's auc: 0.913045\n",
      "[23]\tvalid_0's auc: 0.913205\n",
      "[24]\tvalid_0's auc: 0.913622\n",
      "[25]\tvalid_0's auc: 0.913826\n",
      "[26]\tvalid_0's auc: 0.913966\n",
      "[27]\tvalid_0's auc: 0.914201\n",
      "[28]\tvalid_0's auc: 0.914548\n",
      "[29]\tvalid_0's auc: 0.91465\n",
      "[30]\tvalid_0's auc: 0.914974\n",
      "[31]\tvalid_0's auc: 0.915214\n",
      "[32]\tvalid_0's auc: 0.915719\n",
      "[33]\tvalid_0's auc: 0.915833\n",
      "[34]\tvalid_0's auc: 0.915948\n",
      "[35]\tvalid_0's auc: 0.91631\n",
      "[36]\tvalid_0's auc: 0.916421\n",
      "[37]\tvalid_0's auc: 0.916493\n",
      "[38]\tvalid_0's auc: 0.916517\n",
      "[39]\tvalid_0's auc: 0.916723\n",
      "[40]\tvalid_0's auc: 0.916749\n",
      "[41]\tvalid_0's auc: 0.91681\n",
      "[42]\tvalid_0's auc: 0.917174\n",
      "[43]\tvalid_0's auc: 0.917389\n",
      "[44]\tvalid_0's auc: 0.917498\n",
      "[45]\tvalid_0's auc: 0.917696\n",
      "[46]\tvalid_0's auc: 0.917837\n",
      "[47]\tvalid_0's auc: 0.918047\n",
      "[48]\tvalid_0's auc: 0.91819\n",
      "[49]\tvalid_0's auc: 0.918336\n",
      "[50]\tvalid_0's auc: 0.918414\n",
      "[51]\tvalid_0's auc: 0.918424\n",
      "[52]\tvalid_0's auc: 0.918466\n",
      "[53]\tvalid_0's auc: 0.918553\n",
      "[54]\tvalid_0's auc: 0.918593\n",
      "[55]\tvalid_0's auc: 0.918631\n",
      "[56]\tvalid_0's auc: 0.918679\n",
      "[57]\tvalid_0's auc: 0.918748\n",
      "[58]\tvalid_0's auc: 0.918763\n",
      "[59]\tvalid_0's auc: 0.918697\n",
      "[60]\tvalid_0's auc: 0.918679\n",
      "[61]\tvalid_0's auc: 0.918673\n",
      "[62]\tvalid_0's auc: 0.918678\n",
      "[63]\tvalid_0's auc: 0.918664\n",
      "Early stopping, best iteration is:\n",
      "[58]\tvalid_0's auc: 0.918763\n"
     ]
    }
   ],
   "source": [
    "X_syn, y_syn = prepare_xy(syn)\n",
    "model_syn = train_model(X_syn, y_syn)"
   ]
  },
  {
   "cell_type": "markdown",
   "metadata": {
    "id": "4bwKgsJ3EmJB"
   },
   "source": [
    "### Evaluate `model_trn` on actual holdout"
   ]
  },
  {
   "cell_type": "code",
   "execution_count": 9,
   "metadata": {
    "colab": {
     "base_uri": "https://localhost:8080/",
     "height": 533
    },
    "id": "tneTdK4NEnz7",
    "outputId": "d3730edb-0aac-48f8-a1c9-46bc1c0f2f6a"
   },
   "outputs": [
    {
     "name": "stdout",
     "output_type": "stream",
     "text": [
      "\n",
      "Holdout Accuracy 87.0%\n",
      "Confusion Matrix\n",
      "income        0     1\n",
      "predicted            \n",
      "0          6940   783\n",
      "1           491  1554\n",
      "\n"
     ]
    },
    {
     "data": {
      "image/png": "[encoded data removed]",
      "text/plain": [
       "<Figure size 402.375x360 with 1 Axes>"
      ]
     },
     "metadata": {
      "needs_background": "light"
     },
     "output_type": "display_data"
    }
   ],
   "source": [
    "auc_trn = evaluate_model(model_trn, holdout)"
   ]
  },
  {
   "cell_type": "markdown",
   "metadata": {
    "id": "Fipgm179hYuS"
   },
   "source": [
    "### Evaluate `model_syn` on actual holdout"
   ]
  },
  {
   "cell_type": "code",
   "execution_count": 10,
   "metadata": {
    "colab": {
     "base_uri": "https://localhost:8080/",
     "height": 533
    },
    "id": "g5VaT4w-hMZ5",
    "outputId": "fd4a6cbb-8044-407d-c5e9-4a077ed16011"
   },
   "outputs": [
    {
     "name": "stdout",
     "output_type": "stream",
     "text": [
      "\n",
      "Holdout Accuracy 86.6%\n",
      "Confusion Matrix\n",
      "income        0     1\n",
      "predicted            \n",
      "0          7027   903\n",
      "1           404  1434\n",
      "\n"
     ]
    },
    {
     "data": {
      "image/png": "[encoded data removed]",
      "text/plain": [
       "<Figure size 402.375x360 with 1 Axes>"
      ]
     },
     "metadata": {
      "needs_background": "light"
     },
     "output_type": "display_data"
    }
   ],
   "source": [
    "auc_syn = evaluate_model(model_syn, holdout)"
   ]
  },
  {
   "cell_type": "code",
   "execution_count": 11,
   "metadata": {},
   "outputs": [
    {
     "name": "stdout",
     "output_type": "stream",
     "text": [
      "The closer the AUC for synthetic is to actual, the better the synthesis.\n",
      "Area-Under-Curve (AUC) for ML model trained on actual data is:    0.928\n",
      "Area-Under-Curve (AUC) for ML model trained on synthetic data is: 0.921\n"
     ]
    }
   ],
   "source": [
    "print(f\"The closer the AUC for synthetic is to actual, the better the synthesis.\")\n",
    "print(f\"Area-Under-Curve (AUC) for ML model trained on actual data is:    {auc_trn:.3f}\")\n",
    "print(f\"Area-Under-Curve (AUC) for ML model trained on synthetic data is: {auc_syn:.3f}\")"
   ]
  },
  {
   "cell_type": "markdown",
   "metadata": {
    "id": "UMGNussThvys"
   },
   "source": [
    "## Conclusion\n",
    "\n",
    "For the given dataset, and the given synthesizer, we can observe a near on-par performance of the synthetic data with respect to the given downstream ML task. This means, that one can train the model purely on synthetic data, and yield just as good results as if it were trained on real data, but without ever putting the privacy of any of the contained individuals at any risk.\n",
    "\n",
    "## Further exercises\n",
    "\n",
    "In addition to walking through the above instructions, we suggest..\n",
    "* to run Train-Synthetic-Test-Real on a different dataset, using the same or a different downstream ML model class. For that you will need to do the splitting of the actual data into training and holdout by calling [train_test_split](https://scikit-learn.org/stable/modules/generated/sklearn.model_selection.train_test_split.html) on a Pandas DataFrame.\n",
    "* to check whether one can improve the accuracy of the downstream model by synthetic upsampling, i.e. by generating and then using significantly more synthetic samples than were contained in the actual training data."
   ]
  },
  {
   "cell_type": "code",
   "execution_count": null,
   "metadata": {},
   "outputs": [],
   "source": []
  }
 ],
 "metadata": {
  "colab": {
   "provenance": []
  },
  "kernelspec": {
   "display_name": "Python 3",
   "language": "python",
   "name": "python3"
  },
  "language_info": {
   "codemirror_mode": {
    "name": "ipython",
    "version": 3
   },
   "file_extension": ".py",
   "mimetype": "text/x-python",
   "name": "python",
   "nbconvert_exporter": "python",
   "pygments_lexer": "ipython3",
   "version": "3.8.3"
  }
 },
 "nbformat": 4,
 "nbformat_minor": 4
}
